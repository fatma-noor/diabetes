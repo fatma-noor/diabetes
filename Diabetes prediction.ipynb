{
 "cells": [
  {
   "cell_type": "markdown",
   "metadata": {},
   "source": [
    "# Predict the diabetes based on diagnostic measures\n",
    "\n",
    "#### About DATA:\n",
    "This dataset is originally from the National Institute of Diabetes and Digestive and Kidney Diseases. The objective of the dataset is to diagnostically predict whether or not a patient has diabetes, based on certain diagnostic measurements included in the dataset. Several constraints were placed on the selection of these instances from a larger database. In particular, all patients here are females at least 21 years old of Pima Indian heritage.\n",
    "\n",
    "\n",
    "The datasets consists of several medical predictor variables and one target variable, Outcome. Predictor variables includes the number of pregnancies the patient has had, their BMI, insulin level, age, and so on.\n",
    "\n",
    "\n",
    "Columns\n",
    "> 1.Pregnancies = Number of times pregnant\n",
    "\n",
    "> 2.Glucose = Plasma glucose concentration a 2 hours in an oral glucose tolerance test\n",
    "\n",
    "> 3.BloodPressure = Diastolic blood pressure (mm Hg)\n",
    "\n",
    "> 4.SkinThickness = Triceps skin fold thickness (mm)\n",
    "\n",
    "> 5.Insulin = 2-Hour serum insulin (mu U/ml)\n",
    "\n",
    "> 6.BMI = Body mass index (weight in kg/(height in m)^2)\n",
    "\n",
    "> 7.DiabetesPedigreeFunction = Diabetes pedigree function\n",
    "\n",
    "> 8.Age = Age (years)\n",
    "\n",
    "> 9.Outcome = Class variable (0 or 1) 268 of 768 are 1, the others are 0"
   ]
  },
  {
   "cell_type": "code",
   "execution_count": 1,
   "metadata": {},
   "outputs": [],
   "source": [
    "# importing libraries\n",
    "import pandas as pd\n",
    "import numpy as np\n",
    "import matplotlib.pyplot as plt\n",
    "import seaborn as sns\n",
    "%matplotlib inline\n",
    "import warnings\n",
    "warnings.filterwarnings('ignore')"
   ]
  },
  {
   "cell_type": "code",
   "execution_count": 20,
   "metadata": {},
   "outputs": [],
   "source": [
    "#read the csv file\n",
    "df=pd.read_csv('diabetes.csv')"
   ]
  },
  {
   "cell_type": "code",
   "execution_count": 21,
   "metadata": {},
   "outputs": [
    {
     "data": {
      "text/html": [
       "<div>\n",
       "<style scoped>\n",
       "    .dataframe tbody tr th:only-of-type {\n",
       "        vertical-align: middle;\n",
       "    }\n",
       "\n",
       "    .dataframe tbody tr th {\n",
       "        vertical-align: top;\n",
       "    }\n",
       "\n",
       "    .dataframe thead th {\n",
       "        text-align: right;\n",
       "    }\n",
       "</style>\n",
       "<table border=\"1\" class=\"dataframe\">\n",
       "  <thead>\n",
       "    <tr style=\"text-align: right;\">\n",
       "      <th></th>\n",
       "      <th>num_preg</th>\n",
       "      <th>glucose_conc</th>\n",
       "      <th>diastolic_bp</th>\n",
       "      <th>thickness</th>\n",
       "      <th>insulin</th>\n",
       "      <th>bmi</th>\n",
       "      <th>diab_pred</th>\n",
       "      <th>age</th>\n",
       "      <th>skin</th>\n",
       "      <th>diabetes</th>\n",
       "    </tr>\n",
       "  </thead>\n",
       "  <tbody>\n",
       "    <tr>\n",
       "      <td>0</td>\n",
       "      <td>6</td>\n",
       "      <td>148</td>\n",
       "      <td>72</td>\n",
       "      <td>35</td>\n",
       "      <td>0</td>\n",
       "      <td>33.6</td>\n",
       "      <td>0.627</td>\n",
       "      <td>50</td>\n",
       "      <td>1.3790</td>\n",
       "      <td>True</td>\n",
       "    </tr>\n",
       "    <tr>\n",
       "      <td>1</td>\n",
       "      <td>1</td>\n",
       "      <td>85</td>\n",
       "      <td>66</td>\n",
       "      <td>29</td>\n",
       "      <td>0</td>\n",
       "      <td>26.6</td>\n",
       "      <td>0.351</td>\n",
       "      <td>31</td>\n",
       "      <td>1.1426</td>\n",
       "      <td>False</td>\n",
       "    </tr>\n",
       "    <tr>\n",
       "      <td>2</td>\n",
       "      <td>8</td>\n",
       "      <td>183</td>\n",
       "      <td>64</td>\n",
       "      <td>0</td>\n",
       "      <td>0</td>\n",
       "      <td>23.3</td>\n",
       "      <td>0.672</td>\n",
       "      <td>32</td>\n",
       "      <td>0.0000</td>\n",
       "      <td>True</td>\n",
       "    </tr>\n",
       "    <tr>\n",
       "      <td>3</td>\n",
       "      <td>1</td>\n",
       "      <td>89</td>\n",
       "      <td>66</td>\n",
       "      <td>23</td>\n",
       "      <td>94</td>\n",
       "      <td>28.1</td>\n",
       "      <td>0.167</td>\n",
       "      <td>21</td>\n",
       "      <td>0.9062</td>\n",
       "      <td>False</td>\n",
       "    </tr>\n",
       "    <tr>\n",
       "      <td>4</td>\n",
       "      <td>0</td>\n",
       "      <td>137</td>\n",
       "      <td>40</td>\n",
       "      <td>35</td>\n",
       "      <td>168</td>\n",
       "      <td>43.1</td>\n",
       "      <td>2.288</td>\n",
       "      <td>33</td>\n",
       "      <td>1.3790</td>\n",
       "      <td>True</td>\n",
       "    </tr>\n",
       "  </tbody>\n",
       "</table>\n",
       "</div>"
      ],
      "text/plain": [
       "   num_preg  glucose_conc  diastolic_bp  thickness  insulin   bmi  diab_pred  \\\n",
       "0         6           148            72         35        0  33.6      0.627   \n",
       "1         1            85            66         29        0  26.6      0.351   \n",
       "2         8           183            64          0        0  23.3      0.672   \n",
       "3         1            89            66         23       94  28.1      0.167   \n",
       "4         0           137            40         35      168  43.1      2.288   \n",
       "\n",
       "   age    skin  diabetes  \n",
       "0   50  1.3790      True  \n",
       "1   31  1.1426     False  \n",
       "2   32  0.0000      True  \n",
       "3   21  0.9062     False  \n",
       "4   33  1.3790      True  "
      ]
     },
     "execution_count": 21,
     "metadata": {},
     "output_type": "execute_result"
    }
   ],
   "source": [
    "df.head()"
   ]
  },
  {
   "cell_type": "code",
   "execution_count": 4,
   "metadata": {},
   "outputs": [
    {
     "data": {
      "text/html": [
       "<div>\n",
       "<style scoped>\n",
       "    .dataframe tbody tr th:only-of-type {\n",
       "        vertical-align: middle;\n",
       "    }\n",
       "\n",
       "    .dataframe tbody tr th {\n",
       "        vertical-align: top;\n",
       "    }\n",
       "\n",
       "    .dataframe thead th {\n",
       "        text-align: right;\n",
       "    }\n",
       "</style>\n",
       "<table border=\"1\" class=\"dataframe\">\n",
       "  <thead>\n",
       "    <tr style=\"text-align: right;\">\n",
       "      <th></th>\n",
       "      <th>num_preg</th>\n",
       "      <th>glucose_conc</th>\n",
       "      <th>diastolic_bp</th>\n",
       "      <th>thickness</th>\n",
       "      <th>insulin</th>\n",
       "      <th>bmi</th>\n",
       "      <th>diab_pred</th>\n",
       "      <th>age</th>\n",
       "      <th>skin</th>\n",
       "      <th>diabetes</th>\n",
       "    </tr>\n",
       "  </thead>\n",
       "  <tbody>\n",
       "    <tr>\n",
       "      <td>763</td>\n",
       "      <td>10</td>\n",
       "      <td>101</td>\n",
       "      <td>76</td>\n",
       "      <td>48</td>\n",
       "      <td>180</td>\n",
       "      <td>32.9</td>\n",
       "      <td>0.171</td>\n",
       "      <td>63</td>\n",
       "      <td>1.8912</td>\n",
       "      <td>False</td>\n",
       "    </tr>\n",
       "    <tr>\n",
       "      <td>764</td>\n",
       "      <td>2</td>\n",
       "      <td>122</td>\n",
       "      <td>70</td>\n",
       "      <td>27</td>\n",
       "      <td>0</td>\n",
       "      <td>36.8</td>\n",
       "      <td>0.340</td>\n",
       "      <td>27</td>\n",
       "      <td>1.0638</td>\n",
       "      <td>False</td>\n",
       "    </tr>\n",
       "    <tr>\n",
       "      <td>765</td>\n",
       "      <td>5</td>\n",
       "      <td>121</td>\n",
       "      <td>72</td>\n",
       "      <td>23</td>\n",
       "      <td>112</td>\n",
       "      <td>26.2</td>\n",
       "      <td>0.245</td>\n",
       "      <td>30</td>\n",
       "      <td>0.9062</td>\n",
       "      <td>False</td>\n",
       "    </tr>\n",
       "    <tr>\n",
       "      <td>766</td>\n",
       "      <td>1</td>\n",
       "      <td>126</td>\n",
       "      <td>60</td>\n",
       "      <td>0</td>\n",
       "      <td>0</td>\n",
       "      <td>30.1</td>\n",
       "      <td>0.349</td>\n",
       "      <td>47</td>\n",
       "      <td>0.0000</td>\n",
       "      <td>True</td>\n",
       "    </tr>\n",
       "    <tr>\n",
       "      <td>767</td>\n",
       "      <td>1</td>\n",
       "      <td>93</td>\n",
       "      <td>70</td>\n",
       "      <td>31</td>\n",
       "      <td>0</td>\n",
       "      <td>30.4</td>\n",
       "      <td>0.315</td>\n",
       "      <td>23</td>\n",
       "      <td>1.2214</td>\n",
       "      <td>False</td>\n",
       "    </tr>\n",
       "  </tbody>\n",
       "</table>\n",
       "</div>"
      ],
      "text/plain": [
       "     num_preg  glucose_conc  diastolic_bp  thickness  insulin   bmi  \\\n",
       "763        10           101            76         48      180  32.9   \n",
       "764         2           122            70         27        0  36.8   \n",
       "765         5           121            72         23      112  26.2   \n",
       "766         1           126            60          0        0  30.1   \n",
       "767         1            93            70         31        0  30.4   \n",
       "\n",
       "     diab_pred  age    skin  diabetes  \n",
       "763      0.171   63  1.8912     False  \n",
       "764      0.340   27  1.0638     False  \n",
       "765      0.245   30  0.9062     False  \n",
       "766      0.349   47  0.0000      True  \n",
       "767      0.315   23  1.2214     False  "
      ]
     },
     "execution_count": 4,
     "metadata": {},
     "output_type": "execute_result"
    }
   ],
   "source": [
    "df.tail()"
   ]
  },
  {
   "cell_type": "code",
   "execution_count": 4,
   "metadata": {},
   "outputs": [
    {
     "data": {
      "text/html": [
       "<div>\n",
       "<style scoped>\n",
       "    .dataframe tbody tr th:only-of-type {\n",
       "        vertical-align: middle;\n",
       "    }\n",
       "\n",
       "    .dataframe tbody tr th {\n",
       "        vertical-align: top;\n",
       "    }\n",
       "\n",
       "    .dataframe thead th {\n",
       "        text-align: right;\n",
       "    }\n",
       "</style>\n",
       "<table border=\"1\" class=\"dataframe\">\n",
       "  <thead>\n",
       "    <tr style=\"text-align: right;\">\n",
       "      <th></th>\n",
       "      <th>num_preg</th>\n",
       "      <th>glucose_conc</th>\n",
       "      <th>diastolic_bp</th>\n",
       "      <th>thickness</th>\n",
       "      <th>insulin</th>\n",
       "      <th>bmi</th>\n",
       "      <th>diab_pred</th>\n",
       "      <th>age</th>\n",
       "      <th>skin</th>\n",
       "    </tr>\n",
       "  </thead>\n",
       "  <tbody>\n",
       "    <tr>\n",
       "      <td>count</td>\n",
       "      <td>768.000000</td>\n",
       "      <td>768.000000</td>\n",
       "      <td>768.000000</td>\n",
       "      <td>768.000000</td>\n",
       "      <td>768.000000</td>\n",
       "      <td>768.000000</td>\n",
       "      <td>768.000000</td>\n",
       "      <td>768.000000</td>\n",
       "      <td>768.000000</td>\n",
       "    </tr>\n",
       "    <tr>\n",
       "      <td>mean</td>\n",
       "      <td>3.845052</td>\n",
       "      <td>120.894531</td>\n",
       "      <td>69.105469</td>\n",
       "      <td>20.536458</td>\n",
       "      <td>79.799479</td>\n",
       "      <td>31.992578</td>\n",
       "      <td>0.471876</td>\n",
       "      <td>33.240885</td>\n",
       "      <td>0.809136</td>\n",
       "    </tr>\n",
       "    <tr>\n",
       "      <td>std</td>\n",
       "      <td>3.369578</td>\n",
       "      <td>31.972618</td>\n",
       "      <td>19.355807</td>\n",
       "      <td>15.952218</td>\n",
       "      <td>115.244002</td>\n",
       "      <td>7.884160</td>\n",
       "      <td>0.331329</td>\n",
       "      <td>11.760232</td>\n",
       "      <td>0.628517</td>\n",
       "    </tr>\n",
       "    <tr>\n",
       "      <td>min</td>\n",
       "      <td>0.000000</td>\n",
       "      <td>0.000000</td>\n",
       "      <td>0.000000</td>\n",
       "      <td>0.000000</td>\n",
       "      <td>0.000000</td>\n",
       "      <td>0.000000</td>\n",
       "      <td>0.078000</td>\n",
       "      <td>21.000000</td>\n",
       "      <td>0.000000</td>\n",
       "    </tr>\n",
       "    <tr>\n",
       "      <td>25%</td>\n",
       "      <td>1.000000</td>\n",
       "      <td>99.000000</td>\n",
       "      <td>62.000000</td>\n",
       "      <td>0.000000</td>\n",
       "      <td>0.000000</td>\n",
       "      <td>27.300000</td>\n",
       "      <td>0.243750</td>\n",
       "      <td>24.000000</td>\n",
       "      <td>0.000000</td>\n",
       "    </tr>\n",
       "    <tr>\n",
       "      <td>50%</td>\n",
       "      <td>3.000000</td>\n",
       "      <td>117.000000</td>\n",
       "      <td>72.000000</td>\n",
       "      <td>23.000000</td>\n",
       "      <td>30.500000</td>\n",
       "      <td>32.000000</td>\n",
       "      <td>0.372500</td>\n",
       "      <td>29.000000</td>\n",
       "      <td>0.906200</td>\n",
       "    </tr>\n",
       "    <tr>\n",
       "      <td>75%</td>\n",
       "      <td>6.000000</td>\n",
       "      <td>140.250000</td>\n",
       "      <td>80.000000</td>\n",
       "      <td>32.000000</td>\n",
       "      <td>127.250000</td>\n",
       "      <td>36.600000</td>\n",
       "      <td>0.626250</td>\n",
       "      <td>41.000000</td>\n",
       "      <td>1.260800</td>\n",
       "    </tr>\n",
       "    <tr>\n",
       "      <td>max</td>\n",
       "      <td>17.000000</td>\n",
       "      <td>199.000000</td>\n",
       "      <td>122.000000</td>\n",
       "      <td>99.000000</td>\n",
       "      <td>846.000000</td>\n",
       "      <td>67.100000</td>\n",
       "      <td>2.420000</td>\n",
       "      <td>81.000000</td>\n",
       "      <td>3.900600</td>\n",
       "    </tr>\n",
       "  </tbody>\n",
       "</table>\n",
       "</div>"
      ],
      "text/plain": [
       "         num_preg  glucose_conc  diastolic_bp   thickness     insulin  \\\n",
       "count  768.000000    768.000000    768.000000  768.000000  768.000000   \n",
       "mean     3.845052    120.894531     69.105469   20.536458   79.799479   \n",
       "std      3.369578     31.972618     19.355807   15.952218  115.244002   \n",
       "min      0.000000      0.000000      0.000000    0.000000    0.000000   \n",
       "25%      1.000000     99.000000     62.000000    0.000000    0.000000   \n",
       "50%      3.000000    117.000000     72.000000   23.000000   30.500000   \n",
       "75%      6.000000    140.250000     80.000000   32.000000  127.250000   \n",
       "max     17.000000    199.000000    122.000000   99.000000  846.000000   \n",
       "\n",
       "              bmi   diab_pred         age        skin  \n",
       "count  768.000000  768.000000  768.000000  768.000000  \n",
       "mean    31.992578    0.471876   33.240885    0.809136  \n",
       "std      7.884160    0.331329   11.760232    0.628517  \n",
       "min      0.000000    0.078000   21.000000    0.000000  \n",
       "25%     27.300000    0.243750   24.000000    0.000000  \n",
       "50%     32.000000    0.372500   29.000000    0.906200  \n",
       "75%     36.600000    0.626250   41.000000    1.260800  \n",
       "max     67.100000    2.420000   81.000000    3.900600  "
      ]
     },
     "execution_count": 4,
     "metadata": {},
     "output_type": "execute_result"
    }
   ],
   "source": [
    "df.describe()"
   ]
  },
  {
   "cell_type": "code",
   "execution_count": 5,
   "metadata": {},
   "outputs": [
    {
     "name": "stdout",
     "output_type": "stream",
     "text": [
      "<class 'pandas.core.frame.DataFrame'>\n",
      "RangeIndex: 768 entries, 0 to 767\n",
      "Data columns (total 10 columns):\n",
      "num_preg        768 non-null int64\n",
      "glucose_conc    768 non-null int64\n",
      "diastolic_bp    768 non-null int64\n",
      "thickness       768 non-null int64\n",
      "insulin         768 non-null int64\n",
      "bmi             768 non-null float64\n",
      "diab_pred       768 non-null float64\n",
      "age             768 non-null int64\n",
      "skin            768 non-null float64\n",
      "diabetes        768 non-null bool\n",
      "dtypes: bool(1), float64(3), int64(6)\n",
      "memory usage: 54.9 KB\n"
     ]
    }
   ],
   "source": [
    "df.info()"
   ]
  },
  {
   "cell_type": "code",
   "execution_count": 7,
   "metadata": {},
   "outputs": [
    {
     "data": {
      "text/plain": [
       "(768, 10)"
      ]
     },
     "execution_count": 7,
     "metadata": {},
     "output_type": "execute_result"
    }
   ],
   "source": [
    "df.shape"
   ]
  },
  {
   "cell_type": "code",
   "execution_count": 8,
   "metadata": {},
   "outputs": [
    {
     "data": {
      "text/plain": [
       "num_preg        0\n",
       "glucose_conc    0\n",
       "diastolic_bp    0\n",
       "thickness       0\n",
       "insulin         0\n",
       "bmi             0\n",
       "diab_pred       0\n",
       "age             0\n",
       "skin            0\n",
       "diabetes        0\n",
       "dtype: int64"
      ]
     },
     "execution_count": 8,
     "metadata": {},
     "output_type": "execute_result"
    }
   ],
   "source": [
    "df.isna().sum()"
   ]
  },
  {
   "cell_type": "code",
   "execution_count": 6,
   "metadata": {},
   "outputs": [
    {
     "data": {
      "application/vnd.jupyter.widget-view+json": {
       "model_id": "a51deb2050da45ef823df5bdac363148",
       "version_major": 2,
       "version_minor": 0
      },
      "text/plain": [
       "Tab(children=(HTML(value='<div id=\"overview-content\" class=\"row variable spacing\">\\n    <div class=\"row\">\\n   …"
      ]
     },
     "metadata": {},
     "output_type": "display_data"
    },
    {
     "data": {
      "text/html": [
       "Report generated with <a href=\"https://github.com/pandas-profiling/pandas-profiling\">pandas-profiling</a>."
      ],
      "text/plain": [
       "<IPython.core.display.HTML object>"
      ]
     },
     "metadata": {},
     "output_type": "display_data"
    },
    {
     "data": {
      "text/plain": []
     },
     "execution_count": 6,
     "metadata": {},
     "output_type": "execute_result"
    }
   ],
   "source": [
    "import pandas_profiling as pp\n",
    "pp.ProfileReport(df)"
   ]
  },
  {
   "cell_type": "code",
   "execution_count": 10,
   "metadata": {},
   "outputs": [
    {
     "data": {
      "text/plain": [
       "array([[<matplotlib.axes._subplots.AxesSubplot object at 0x0000029782183F48>,\n",
       "        <matplotlib.axes._subplots.AxesSubplot object at 0x00000297821B1548>],\n",
       "       [<matplotlib.axes._subplots.AxesSubplot object at 0x00000297821E4EC8>,\n",
       "        <matplotlib.axes._subplots.AxesSubplot object at 0x000002978226C9C8>],\n",
       "       [<matplotlib.axes._subplots.AxesSubplot object at 0x00000297822A4648>,\n",
       "        <matplotlib.axes._subplots.AxesSubplot object at 0x00000297822DD288>],\n",
       "       [<matplotlib.axes._subplots.AxesSubplot object at 0x0000029782313E48>,\n",
       "        <matplotlib.axes._subplots.AxesSubplot object at 0x000002978234CA88>],\n",
       "       [<matplotlib.axes._subplots.AxesSubplot object at 0x0000029782358548>,\n",
       "        <matplotlib.axes._subplots.AxesSubplot object at 0x0000029782390208>],\n",
       "       [<matplotlib.axes._subplots.AxesSubplot object at 0x00000297823F3F48>,\n",
       "        <matplotlib.axes._subplots.AxesSubplot object at 0x000002978242BB88>],\n",
       "       [<matplotlib.axes._subplots.AxesSubplot object at 0x00000297824648C8>,\n",
       "        <matplotlib.axes._subplots.AxesSubplot object at 0x000002978249E5C8>],\n",
       "       [<matplotlib.axes._subplots.AxesSubplot object at 0x00000297803BBB88>,\n",
       "        <matplotlib.axes._subplots.AxesSubplot object at 0x0000029780246F08>],\n",
       "       [<matplotlib.axes._subplots.AxesSubplot object at 0x00000297FE15C848>,\n",
       "        <matplotlib.axes._subplots.AxesSubplot object at 0x000002978023D788>],\n",
       "       [<matplotlib.axes._subplots.AxesSubplot object at 0x00000297800D7E08>,\n",
       "        <matplotlib.axes._subplots.AxesSubplot object at 0x0000029780001F48>],\n",
       "       [<matplotlib.axes._subplots.AxesSubplot object at 0x00000297FE43C648>,\n",
       "        <matplotlib.axes._subplots.AxesSubplot object at 0x00000297FE377148>],\n",
       "       [<matplotlib.axes._subplots.AxesSubplot object at 0x00000297FE275848>,\n",
       "        <matplotlib.axes._subplots.AxesSubplot object at 0x00000297FE09F248>],\n",
       "       [<matplotlib.axes._subplots.AxesSubplot object at 0x00000297FDF16F08>,\n",
       "        <matplotlib.axes._subplots.AxesSubplot object at 0x00000297FC958E88>],\n",
       "       [<matplotlib.axes._subplots.AxesSubplot object at 0x00000297FDDBB048>,\n",
       "        <matplotlib.axes._subplots.AxesSubplot object at 0x00000297FC8676C8>]],\n",
       "      dtype=object)"
      ]
     },
     "execution_count": 10,
     "metadata": {},
     "output_type": "execute_result"
    },
    {
     "data": {
      "image/png": "[encoded data removed]",
      "text/plain": [
       "<Figure size 1080x2160 with 28 Axes>"
      ]
     },
     "metadata": {},
     "output_type": "display_data"
    }
   ],
   "source": [
    "# Histogram\n",
    "\n",
    "columns = list(df)[0:-1]\n",
    "df[columns].hist(stacked = False, bins = 100, figsize = (15, 30), layout = (14,2))"
   ]
  },
  {
   "cell_type": "code",
   "execution_count": 11,
   "metadata": {},
   "outputs": [
    {
     "data": {
      "image/png": "[encoded data removed]",
      "text/plain": [
       "<Figure size 576x396 with 1 Axes>"
      ]
     },
     "metadata": {},
     "output_type": "display_data"
    }
   ],
   "source": [
    "sns.barplot(x= df.bmi.value_counts().index, y = df.bmi.value_counts().values)\n",
    "plt.xlabel('BMI')\n",
    "plt.ylabel(\" COUNT\")\n",
    "plt.show()"
   ]
  },
  {
   "cell_type": "code",
   "execution_count": 12,
   "metadata": {},
   "outputs": [
    {
     "data": {
      "image/png": "[encoded data removed]",
      "text/plain": [
       "<Figure size 576x396 with 1 Axes>"
      ]
     },
     "metadata": {},
     "output_type": "display_data"
    }
   ],
   "source": [
    "sns.barplot(x= df.num_preg.value_counts().index, y = df.num_preg.value_counts().values)\n",
    "plt.xlabel('num_preg')\n",
    "plt.ylabel(\" COUNT\")\n",
    "plt.show()"
   ]
  },
  {
   "cell_type": "code",
   "execution_count": 13,
   "metadata": {},
   "outputs": [
    {
     "data": {
      "image/png": "[encoded data removed]",
      "text/plain": [
       "<Figure size 576x396 with 1 Axes>"
      ]
     },
     "metadata": {},
     "output_type": "display_data"
    }
   ],
   "source": [
    "sns.countplot(df.diabetes)\n",
    "plt.xlabel('diabetes')\n",
    "plt.ylabel('Count')\n",
    "plt.show()"
   ]
  },
  {
   "cell_type": "code",
   "execution_count": 14,
   "metadata": {},
   "outputs": [
    {
     "data": {
      "image/png": "[encoded data removed]",
      "text/plain": [
       "<Figure size 720x720 with 2 Axes>"
      ]
     },
     "metadata": {},
     "output_type": "display_data"
    }
   ],
   "source": [
    "# correlation matrix = corrM\n",
    "corrM = df.corr()\n",
    "top_corr_features = corrM.index\n",
    "plt.figure(figsize= (10,10))\n",
    "g = sns.heatmap(df[top_corr_features].corr(), annot= True, cmap = 'RdYlGn')"
   ]
  },
  {
   "cell_type": "code",
   "execution_count": 22,
   "metadata": {},
   "outputs": [],
   "source": [
    "#changing boolean to number\n",
    "\n",
    "diabetes_map = {True: 1, False: 0}\n",
    "df['diabetes']= df['diabetes'].map(diabetes_map)"
   ]
  },
  {
   "cell_type": "code",
   "execution_count": 23,
   "metadata": {},
   "outputs": [
    {
     "data": {
      "text/html": [
       "<div>\n",
       "<style scoped>\n",
       "    .dataframe tbody tr th:only-of-type {\n",
       "        vertical-align: middle;\n",
       "    }\n",
       "\n",
       "    .dataframe tbody tr th {\n",
       "        vertical-align: top;\n",
       "    }\n",
       "\n",
       "    .dataframe thead th {\n",
       "        text-align: right;\n",
       "    }\n",
       "</style>\n",
       "<table border=\"1\" class=\"dataframe\">\n",
       "  <thead>\n",
       "    <tr style=\"text-align: right;\">\n",
       "      <th></th>\n",
       "      <th>num_preg</th>\n",
       "      <th>glucose_conc</th>\n",
       "      <th>diastolic_bp</th>\n",
       "      <th>thickness</th>\n",
       "      <th>insulin</th>\n",
       "      <th>bmi</th>\n",
       "      <th>diab_pred</th>\n",
       "      <th>age</th>\n",
       "      <th>skin</th>\n",
       "      <th>diabetes</th>\n",
       "    </tr>\n",
       "  </thead>\n",
       "  <tbody>\n",
       "    <tr>\n",
       "      <td>0</td>\n",
       "      <td>6</td>\n",
       "      <td>148</td>\n",
       "      <td>72</td>\n",
       "      <td>35</td>\n",
       "      <td>0</td>\n",
       "      <td>33.6</td>\n",
       "      <td>0.627</td>\n",
       "      <td>50</td>\n",
       "      <td>1.3790</td>\n",
       "      <td>1</td>\n",
       "    </tr>\n",
       "    <tr>\n",
       "      <td>1</td>\n",
       "      <td>1</td>\n",
       "      <td>85</td>\n",
       "      <td>66</td>\n",
       "      <td>29</td>\n",
       "      <td>0</td>\n",
       "      <td>26.6</td>\n",
       "      <td>0.351</td>\n",
       "      <td>31</td>\n",
       "      <td>1.1426</td>\n",
       "      <td>0</td>\n",
       "    </tr>\n",
       "    <tr>\n",
       "      <td>2</td>\n",
       "      <td>8</td>\n",
       "      <td>183</td>\n",
       "      <td>64</td>\n",
       "      <td>0</td>\n",
       "      <td>0</td>\n",
       "      <td>23.3</td>\n",
       "      <td>0.672</td>\n",
       "      <td>32</td>\n",
       "      <td>0.0000</td>\n",
       "      <td>1</td>\n",
       "    </tr>\n",
       "    <tr>\n",
       "      <td>3</td>\n",
       "      <td>1</td>\n",
       "      <td>89</td>\n",
       "      <td>66</td>\n",
       "      <td>23</td>\n",
       "      <td>94</td>\n",
       "      <td>28.1</td>\n",
       "      <td>0.167</td>\n",
       "      <td>21</td>\n",
       "      <td>0.9062</td>\n",
       "      <td>0</td>\n",
       "    </tr>\n",
       "    <tr>\n",
       "      <td>4</td>\n",
       "      <td>0</td>\n",
       "      <td>137</td>\n",
       "      <td>40</td>\n",
       "      <td>35</td>\n",
       "      <td>168</td>\n",
       "      <td>43.1</td>\n",
       "      <td>2.288</td>\n",
       "      <td>33</td>\n",
       "      <td>1.3790</td>\n",
       "      <td>1</td>\n",
       "    </tr>\n",
       "  </tbody>\n",
       "</table>\n",
       "</div>"
      ],
      "text/plain": [
       "   num_preg  glucose_conc  diastolic_bp  thickness  insulin   bmi  diab_pred  \\\n",
       "0         6           148            72         35        0  33.6      0.627   \n",
       "1         1            85            66         29        0  26.6      0.351   \n",
       "2         8           183            64          0        0  23.3      0.672   \n",
       "3         1            89            66         23       94  28.1      0.167   \n",
       "4         0           137            40         35      168  43.1      2.288   \n",
       "\n",
       "   age    skin  diabetes  \n",
       "0   50  1.3790         1  \n",
       "1   31  1.1426         0  \n",
       "2   32  0.0000         1  \n",
       "3   21  0.9062         0  \n",
       "4   33  1.3790         1  "
      ]
     },
     "execution_count": 23,
     "metadata": {},
     "output_type": "execute_result"
    }
   ],
   "source": [
    "df.head()"
   ]
  },
  {
   "cell_type": "code",
   "execution_count": null,
   "metadata": {},
   "outputs": [],
   "source": []
  },
  {
   "cell_type": "code",
   "execution_count": 17,
   "metadata": {},
   "outputs": [
    {
     "name": "stdout",
     "output_type": "stream",
     "text": [
      "<class 'pandas.core.frame.DataFrame'>\n",
      "RangeIndex: 768 entries, 0 to 767\n",
      "Data columns (total 10 columns):\n",
      "num_preg        768 non-null int64\n",
      "glucose_conc    768 non-null int64\n",
      "diastolic_bp    768 non-null int64\n",
      "thickness       768 non-null int64\n",
      "insulin         768 non-null int64\n",
      "bmi             768 non-null float64\n",
      "diab_pred       768 non-null float64\n",
      "age             768 non-null int64\n",
      "skin            768 non-null float64\n",
      "diabetes        768 non-null int64\n",
      "dtypes: float64(3), int64(7)\n",
      "memory usage: 60.1 KB\n"
     ]
    }
   ],
   "source": [
    "df.info()"
   ]
  },
  {
   "cell_type": "code",
   "execution_count": 18,
   "metadata": {},
   "outputs": [
    {
     "name": "stdout",
     "output_type": "stream",
     "text": [
      "Number of True Cases: 268(34.90%)\n",
      "Number of False Cases: 500(65.10%)\n"
     ]
    }
   ],
   "source": [
    "n_true= len(df.loc[df['diabetes']== True])\n",
    "n_false= len(df.loc[df['diabetes']== False])\n",
    "\n",
    "print('Number of True Cases: {0}({1:2.2f}%)'.format(n_true, (n_true/(n_true+n_false))*100))\n",
    "print('Number of False Cases: {0}({1:2.2f}%)'.format(n_false, (n_false/(n_true+n_false))*100))"
   ]
  },
  {
   "cell_type": "code",
   "execution_count": 24,
   "metadata": {},
   "outputs": [],
   "source": [
    "#Building the models\n",
    "\n",
    "from sklearn.model_selection import train_test_split"
   ]
  },
  {
   "cell_type": "code",
   "execution_count": 25,
   "metadata": {},
   "outputs": [],
   "source": [
    "#spliting train and test data\n",
    "x=df.drop(['diabetes'], axis= 1)\n",
    "y=df.diabetes.values\n",
    "\n",
    "X_train, X_test, y_train, y_test = train_test_split(x, y, test_size = 0.2, random_state= 0)"
   ]
  },
  {
   "cell_type": "code",
   "execution_count": 39,
   "metadata": {},
   "outputs": [],
   "source": [
    "from sklearn.preprocessing import StandardScaler\n",
    "# generate an standarScalar\n",
    "sc_X = StandardScaler()\n",
    "\n",
    "#StandardScaler return a Numpy Array so we need to convert to a Dataframe\n",
    "X_train2= pd.DataFrame(sc_X.fit_transform(X_train))\n",
    "X_test2 = pd.DataFrame(sc_X.fit_transform(X_test))\n",
    "\n",
    "#copy columns name to the new traning and testing dataset\n",
    "X_train2.columns = X_train.columns.values\n",
    "X_test2.columns = X_test.columns.values\n",
    "\n",
    "#copy index to the new traning and testing dataset\n",
    "X_train2.index = X_train.index.values\n",
    "X_test2.index = X_test.index.values\n",
    "\n",
    "# reasigned copy dataset to original\n",
    "X_train = X_train2\n",
    "X_test = X_test2"
   ]
  },
  {
   "cell_type": "code",
   "execution_count": 40,
   "metadata": {},
   "outputs": [
    {
     "data": {
      "text/html": [
       "<div>\n",
       "<style scoped>\n",
       "    .dataframe tbody tr th:only-of-type {\n",
       "        vertical-align: middle;\n",
       "    }\n",
       "\n",
       "    .dataframe tbody tr th {\n",
       "        vertical-align: top;\n",
       "    }\n",
       "\n",
       "    .dataframe thead th {\n",
       "        text-align: right;\n",
       "    }\n",
       "</style>\n",
       "<table border=\"1\" class=\"dataframe\">\n",
       "  <thead>\n",
       "    <tr style=\"text-align: right;\">\n",
       "      <th></th>\n",
       "      <th>num_preg</th>\n",
       "      <th>glucose_conc</th>\n",
       "      <th>diastolic_bp</th>\n",
       "      <th>thickness</th>\n",
       "      <th>insulin</th>\n",
       "      <th>bmi</th>\n",
       "      <th>diab_pred</th>\n",
       "      <th>age</th>\n",
       "      <th>skin</th>\n",
       "    </tr>\n",
       "  </thead>\n",
       "  <tbody>\n",
       "    <tr>\n",
       "      <td>603</td>\n",
       "      <td>0.908329</td>\n",
       "      <td>0.915694</td>\n",
       "      <td>0.449124</td>\n",
       "      <td>0.522226</td>\n",
       "      <td>0.373635</td>\n",
       "      <td>0.378526</td>\n",
       "      <td>0.677404</td>\n",
       "      <td>1.699558</td>\n",
       "      <td>0.522226</td>\n",
       "    </tr>\n",
       "    <tr>\n",
       "      <td>118</td>\n",
       "      <td>0.036447</td>\n",
       "      <td>-0.751822</td>\n",
       "      <td>-0.472301</td>\n",
       "      <td>0.148149</td>\n",
       "      <td>-0.699657</td>\n",
       "      <td>-0.506672</td>\n",
       "      <td>-0.070497</td>\n",
       "      <td>-0.965692</td>\n",
       "      <td>0.148149</td>\n",
       "    </tr>\n",
       "    <tr>\n",
       "      <td>247</td>\n",
       "      <td>-1.126063</td>\n",
       "      <td>1.387632</td>\n",
       "      <td>1.063407</td>\n",
       "      <td>0.771611</td>\n",
       "      <td>5.092711</td>\n",
       "      <td>2.540941</td>\n",
       "      <td>-0.118555</td>\n",
       "      <td>-0.882403</td>\n",
       "      <td>0.771611</td>\n",
       "    </tr>\n",
       "    <tr>\n",
       "      <td>157</td>\n",
       "      <td>-0.835435</td>\n",
       "      <td>-0.374271</td>\n",
       "      <td>-0.677062</td>\n",
       "      <td>0.023456</td>\n",
       "      <td>0.450299</td>\n",
       "      <td>-0.886043</td>\n",
       "      <td>1.100914</td>\n",
       "      <td>-0.882403</td>\n",
       "      <td>0.023456</td>\n",
       "    </tr>\n",
       "    <tr>\n",
       "      <td>468</td>\n",
       "      <td>1.198956</td>\n",
       "      <td>-0.028183</td>\n",
       "      <td>-3.543717</td>\n",
       "      <td>-1.285816</td>\n",
       "      <td>-0.699657</td>\n",
       "      <td>-0.279050</td>\n",
       "      <td>-0.851438</td>\n",
       "      <td>0.366933</td>\n",
       "      <td>-1.285816</td>\n",
       "    </tr>\n",
       "    <tr>\n",
       "      <td>...</td>\n",
       "      <td>...</td>\n",
       "      <td>...</td>\n",
       "      <td>...</td>\n",
       "      <td>...</td>\n",
       "      <td>...</td>\n",
       "      <td>...</td>\n",
       "      <td>...</td>\n",
       "      <td>...</td>\n",
       "      <td>...</td>\n",
       "    </tr>\n",
       "    <tr>\n",
       "      <td>763</td>\n",
       "      <td>1.780211</td>\n",
       "      <td>-0.625972</td>\n",
       "      <td>0.346743</td>\n",
       "      <td>1.706805</td>\n",
       "      <td>0.833617</td>\n",
       "      <td>0.087675</td>\n",
       "      <td>-0.887481</td>\n",
       "      <td>2.449160</td>\n",
       "      <td>1.706805</td>\n",
       "    </tr>\n",
       "    <tr>\n",
       "      <td>192</td>\n",
       "      <td>0.908329</td>\n",
       "      <td>1.198857</td>\n",
       "      <td>-0.165159</td>\n",
       "      <td>-1.285816</td>\n",
       "      <td>-0.699657</td>\n",
       "      <td>-0.228467</td>\n",
       "      <td>-0.250714</td>\n",
       "      <td>0.200355</td>\n",
       "      <td>-1.285816</td>\n",
       "    </tr>\n",
       "    <tr>\n",
       "      <td>629</td>\n",
       "      <td>0.036447</td>\n",
       "      <td>-0.846210</td>\n",
       "      <td>-0.216350</td>\n",
       "      <td>0.085802</td>\n",
       "      <td>-0.699657</td>\n",
       "      <td>-0.949272</td>\n",
       "      <td>-0.956564</td>\n",
       "      <td>-1.048981</td>\n",
       "      <td>0.085802</td>\n",
       "    </tr>\n",
       "    <tr>\n",
       "      <td>559</td>\n",
       "      <td>2.070839</td>\n",
       "      <td>-1.129373</td>\n",
       "      <td>0.244363</td>\n",
       "      <td>-1.285816</td>\n",
       "      <td>-0.699657</td>\n",
       "      <td>-0.266404</td>\n",
       "      <td>-0.500014</td>\n",
       "      <td>0.117066</td>\n",
       "      <td>-1.285816</td>\n",
       "    </tr>\n",
       "    <tr>\n",
       "      <td>684</td>\n",
       "      <td>0.327074</td>\n",
       "      <td>0.475218</td>\n",
       "      <td>0.653885</td>\n",
       "      <td>-1.285816</td>\n",
       "      <td>-0.699657</td>\n",
       "      <td>-4.072759</td>\n",
       "      <td>0.521216</td>\n",
       "      <td>2.948894</td>\n",
       "      <td>-1.285816</td>\n",
       "    </tr>\n",
       "  </tbody>\n",
       "</table>\n",
       "<p>614 rows × 9 columns</p>\n",
       "</div>"
      ],
      "text/plain": [
       "     num_preg  glucose_conc  diastolic_bp  thickness   insulin       bmi  \\\n",
       "603  0.908329      0.915694      0.449124   0.522226  0.373635  0.378526   \n",
       "118  0.036447     -0.751822     -0.472301   0.148149 -0.699657 -0.506672   \n",
       "247 -1.126063      1.387632      1.063407   0.771611  5.092711  2.540941   \n",
       "157 -0.835435     -0.374271     -0.677062   0.023456  0.450299 -0.886043   \n",
       "468  1.198956     -0.028183     -3.543717  -1.285816 -0.699657 -0.279050   \n",
       "..        ...           ...           ...        ...       ...       ...   \n",
       "763  1.780211     -0.625972      0.346743   1.706805  0.833617  0.087675   \n",
       "192  0.908329      1.198857     -0.165159  -1.285816 -0.699657 -0.228467   \n",
       "629  0.036447     -0.846210     -0.216350   0.085802 -0.699657 -0.949272   \n",
       "559  2.070839     -1.129373      0.244363  -1.285816 -0.699657 -0.266404   \n",
       "684  0.327074      0.475218      0.653885  -1.285816 -0.699657 -4.072759   \n",
       "\n",
       "     diab_pred       age      skin  \n",
       "603   0.677404  1.699558  0.522226  \n",
       "118  -0.070497 -0.965692  0.148149  \n",
       "247  -0.118555 -0.882403  0.771611  \n",
       "157   1.100914 -0.882403  0.023456  \n",
       "468  -0.851438  0.366933 -1.285816  \n",
       "..         ...       ...       ...  \n",
       "763  -0.887481  2.449160  1.706805  \n",
       "192  -0.250714  0.200355 -1.285816  \n",
       "629  -0.956564 -1.048981  0.085802  \n",
       "559  -0.500014  0.117066 -1.285816  \n",
       "684   0.521216  2.948894 -1.285816  \n",
       "\n",
       "[614 rows x 9 columns]"
      ]
     },
     "execution_count": 40,
     "metadata": {},
     "output_type": "execute_result"
    }
   ],
   "source": [
    "X_train"
   ]
  },
  {
   "cell_type": "code",
   "execution_count": null,
   "metadata": {},
   "outputs": [],
   "source": []
  },
  {
   "cell_type": "code",
   "execution_count": 47,
   "metadata": {},
   "outputs": [],
   "source": [
    "from sklearn.metrics import confusion_matrix, accuracy_score, f1_score, precision_score, recall_score"
   ]
  },
  {
   "cell_type": "code",
   "execution_count": 53,
   "metadata": {},
   "outputs": [
    {
     "name": "stdout",
     "output_type": "stream",
     "text": [
      "SVC accuracy:  78.57%\n",
      "Accuracy Score: 0.7857142857142857 / Precision Score 0.6842105263157895 / recall_score 0.5531914893617021\n",
      "Confusion  matrix:\n",
      " [[95 12]\n",
      " [21 26]]\n"
     ]
    }
   ],
   "source": [
    "# support vector\n",
    "\n",
    "from sklearn.svm import SVC\n",
    "svm = SVC(random_state= 1)\n",
    "svm.fit(X_train, y_train)\n",
    "print(\"SVC accuracy: {: .2f}%\".format(svm.score(X_test, y_test)*100))\n",
    "y_pred = svm.predict(X_test)\n",
    "print('Accuracy Score: {} / Precision Score {} / recall_score {}'. format(accuracy_score(y_test, y_pred),\n",
    "                                                                      precision_score(y_test, y_pred),\n",
    "                                                                      recall_score(y_test, y_pred)))\n",
    "cnf_matrix = confusion_matrix(y_test, y_pred)\n",
    "print('Confusion  matrix:\\n {}'.format(cnf_matrix))"
   ]
  },
  {
   "cell_type": "code",
   "execution_count": 54,
   "metadata": {},
   "outputs": [
    {
     "name": "stdout",
     "output_type": "stream",
     "text": [
      "NB accuracy:  75.97%\n",
      "Accuracy Score: 0.7597402597402597 / Precision Score 0.5961538461538461 / recall_score 0.6595744680851063\n",
      "Confusion  matrix:\n",
      " [[86 21]\n",
      " [16 31]]\n"
     ]
    }
   ],
   "source": [
    "# Naive Bayes\n",
    "\n",
    "from sklearn.naive_bayes import GaussianNB\n",
    "nb= GaussianNB()\n",
    "nb.fit(X_train, y_train)\n",
    "print(\"NB accuracy: {: .2f}%\".format(nb.score(X_test, y_test)*100))\n",
    "y_pred = nb.predict(X_test)\n",
    "print('Accuracy Score: {} / Precision Score {} / recall_score {}'. format(accuracy_score(y_test, y_pred),\n",
    "                                                                      precision_score(y_test, y_pred),\n",
    "                                                                      recall_score(y_test, y_pred)))\n",
    "cnf_matrix = confusion_matrix(y_test, y_pred)\n",
    "print('Confusion  matrix:\\n {}'.format(cnf_matrix))"
   ]
  },
  {
   "cell_type": "code",
   "execution_count": 55,
   "metadata": {},
   "outputs": [
    {
     "name": "stdout",
     "output_type": "stream",
     "text": [
      "KNN accuracy:  79.87%\n",
      "Accuracy Score: 0.7987012987012987 / Precision Score 0.66 / recall_score 0.7021276595744681\n",
      "Confusion  matrix:\n",
      " [[90 17]\n",
      " [14 33]]\n"
     ]
    }
   ],
   "source": [
    "#KNN model\n",
    "\n",
    "from sklearn.neighbors import KNeighborsClassifier\n",
    "knn= KNeighborsClassifier(n_neighbors = 3)\n",
    "knn.fit(X_train, y_train)\n",
    "print(\"KNN accuracy: {: .2f}%\".format(knn.score(X_test, y_test)*100))\n",
    "y_pred = knn.predict(X_test)\n",
    "print('Accuracy Score: {} / Precision Score {} / recall_score {}'. format(accuracy_score(y_test, y_pred),\n",
    "                                                                      precision_score(y_test, y_pred),\n",
    "                                                                      recall_score(y_test, y_pred)))\n",
    "cnf_matrix = confusion_matrix(y_test, y_pred)\n",
    "print('Confusion  matrix:\\n {}'.format(cnf_matrix))"
   ]
  },
  {
   "cell_type": "code",
   "execution_count": 56,
   "metadata": {},
   "outputs": [
    {
     "name": "stdout",
     "output_type": "stream",
     "text": [
      "Random Forest accuracy:  81.17%\n",
      "Accuracy Score: 0.8116883116883117 / Precision Score 0.6956521739130435 / recall_score 0.6808510638297872\n",
      "Confusion  matrix:\n",
      " [[93 14]\n",
      " [15 32]]\n"
     ]
    }
   ],
   "source": [
    "# Random Forest \n",
    "\n",
    "from sklearn.ensemble import RandomForestClassifier\n",
    "rf = RandomForestClassifier(n_estimators = 100, random_state = 1)\n",
    "rf.fit(X_train, y_train)\n",
    "print(\"Random Forest accuracy: {: .2f}%\".format(rf.score(X_test, y_test)*100))\n",
    "y_pred = rf.predict(X_test)\n",
    "print('Accuracy Score: {} / Precision Score {} / recall_score {}'. format(accuracy_score(y_test, y_pred),\n",
    "                                                                      precision_score(y_test, y_pred),\n",
    "                                                                      recall_score(y_test, y_pred)))\n",
    "cnf_matrix = confusion_matrix(y_test, y_pred)\n",
    "print('Confusion  matrix:\\n {}'.format(cnf_matrix))"
   ]
  },
  {
   "cell_type": "code",
   "execution_count": 61,
   "metadata": {},
   "outputs": [
    {
     "data": {
      "text/plain": [
       "{'bootstrap': True,\n",
       " 'class_weight': None,\n",
       " 'criterion': 'gini',\n",
       " 'max_depth': None,\n",
       " 'max_features': 'auto',\n",
       " 'max_leaf_nodes': None,\n",
       " 'min_impurity_decrease': 0.0,\n",
       " 'min_impurity_split': None,\n",
       " 'min_samples_leaf': 1,\n",
       " 'min_samples_split': 2,\n",
       " 'min_weight_fraction_leaf': 0.0,\n",
       " 'n_estimators': 100,\n",
       " 'n_jobs': None,\n",
       " 'oob_score': False,\n",
       " 'random_state': 1,\n",
       " 'verbose': 0,\n",
       " 'warm_start': False}"
      ]
     },
     "execution_count": 61,
     "metadata": {},
     "output_type": "execute_result"
    }
   ],
   "source": [
    "rf.get_params()"
   ]
  },
  {
   "cell_type": "code",
   "execution_count": 62,
   "metadata": {},
   "outputs": [],
   "source": [
    "# Hyperparameter grid RandomizedSearchCV will search over\n",
    "grid = {\"n_estimators\": [10, 100, 200, 500, 1000, 1200],\n",
    "        \"max_depth\": [None, 5, 10, 20, 30],\n",
    "        \"max_features\": [\"auto\", \"sqrt\"],\n",
    "        \"min_samples_split\": [2, 4, 6],\n",
    "        \"min_samples_leaf\": [1, 2, 4]}"
   ]
  },
  {
   "cell_type": "code",
   "execution_count": 63,
   "metadata": {},
   "outputs": [
    {
     "name": "stdout",
     "output_type": "stream",
     "text": [
      "Fitting 5 folds for each of 20 candidates, totalling 100 fits\n",
      "[CV] n_estimators=100, min_samples_split=6, min_samples_leaf=1, max_features=auto, max_depth=10 \n"
     ]
    },
    {
     "name": "stderr",
     "output_type": "stream",
     "text": [
      "[Parallel(n_jobs=1)]: Using backend SequentialBackend with 1 concurrent workers.\n"
     ]
    },
    {
     "name": "stdout",
     "output_type": "stream",
     "text": [
      "[CV]  n_estimators=100, min_samples_split=6, min_samples_leaf=1, max_features=auto, max_depth=10, total=   0.5s\n",
      "[CV] n_estimators=100, min_samples_split=6, min_samples_leaf=1, max_features=auto, max_depth=10 \n"
     ]
    },
    {
     "name": "stderr",
     "output_type": "stream",
     "text": [
      "[Parallel(n_jobs=1)]: Done   1 out of   1 | elapsed:    0.4s remaining:    0.0s\n"
     ]
    },
    {
     "name": "stdout",
     "output_type": "stream",
     "text": [
      "[CV]  n_estimators=100, min_samples_split=6, min_samples_leaf=1, max_features=auto, max_depth=10, total=   0.6s\n",
      "[CV] n_estimators=100, min_samples_split=6, min_samples_leaf=1, max_features=auto, max_depth=10 \n",
      "[CV]  n_estimators=100, min_samples_split=6, min_samples_leaf=1, max_features=auto, max_depth=10, total=   0.6s\n",
      "[CV] n_estimators=100, min_samples_split=6, min_samples_leaf=1, max_features=auto, max_depth=10 \n",
      "[CV]  n_estimators=100, min_samples_split=6, min_samples_leaf=1, max_features=auto, max_depth=10, total=   0.6s\n",
      "[CV] n_estimators=100, min_samples_split=6, min_samples_leaf=1, max_features=auto, max_depth=10 \n",
      "[CV]  n_estimators=100, min_samples_split=6, min_samples_leaf=1, max_features=auto, max_depth=10, total=   0.6s\n",
      "[CV] n_estimators=100, min_samples_split=2, min_samples_leaf=2, max_features=sqrt, max_depth=None \n",
      "[CV]  n_estimators=100, min_samples_split=2, min_samples_leaf=2, max_features=sqrt, max_depth=None, total=   0.6s\n",
      "[CV] n_estimators=100, min_samples_split=2, min_samples_leaf=2, max_features=sqrt, max_depth=None \n",
      "[CV]  n_estimators=100, min_samples_split=2, min_samples_leaf=2, max_features=sqrt, max_depth=None, total=   0.6s\n",
      "[CV] n_estimators=100, min_samples_split=2, min_samples_leaf=2, max_features=sqrt, max_depth=None \n",
      "[CV]  n_estimators=100, min_samples_split=2, min_samples_leaf=2, max_features=sqrt, max_depth=None, total=   0.5s\n",
      "[CV] n_estimators=100, min_samples_split=2, min_samples_leaf=2, max_features=sqrt, max_depth=None \n",
      "[CV]  n_estimators=100, min_samples_split=2, min_samples_leaf=2, max_features=sqrt, max_depth=None, total=   0.5s\n",
      "[CV] n_estimators=100, min_samples_split=2, min_samples_leaf=2, max_features=sqrt, max_depth=None \n",
      "[CV]  n_estimators=100, min_samples_split=2, min_samples_leaf=2, max_features=sqrt, max_depth=None, total=   0.6s\n",
      "[CV] n_estimators=1200, min_samples_split=6, min_samples_leaf=2, max_features=sqrt, max_depth=30 \n",
      "[CV]  n_estimators=1200, min_samples_split=6, min_samples_leaf=2, max_features=sqrt, max_depth=30, total=   6.1s\n",
      "[CV] n_estimators=1200, min_samples_split=6, min_samples_leaf=2, max_features=sqrt, max_depth=30 \n",
      "[CV]  n_estimators=1200, min_samples_split=6, min_samples_leaf=2, max_features=sqrt, max_depth=30, total=   6.6s\n",
      "[CV] n_estimators=1200, min_samples_split=6, min_samples_leaf=2, max_features=sqrt, max_depth=30 \n",
      "[CV]  n_estimators=1200, min_samples_split=6, min_samples_leaf=2, max_features=sqrt, max_depth=30, total=   6.5s\n",
      "[CV] n_estimators=1200, min_samples_split=6, min_samples_leaf=2, max_features=sqrt, max_depth=30 \n",
      "[CV]  n_estimators=1200, min_samples_split=6, min_samples_leaf=2, max_features=sqrt, max_depth=30, total=   5.7s\n",
      "[CV] n_estimators=1200, min_samples_split=6, min_samples_leaf=2, max_features=sqrt, max_depth=30 \n",
      "[CV]  n_estimators=1200, min_samples_split=6, min_samples_leaf=2, max_features=sqrt, max_depth=30, total=   6.4s\n",
      "[CV] n_estimators=200, min_samples_split=6, min_samples_leaf=2, max_features=sqrt, max_depth=None \n",
      "[CV]  n_estimators=200, min_samples_split=6, min_samples_leaf=2, max_features=sqrt, max_depth=None, total=   1.0s\n",
      "[CV] n_estimators=200, min_samples_split=6, min_samples_leaf=2, max_features=sqrt, max_depth=None \n",
      "[CV]  n_estimators=200, min_samples_split=6, min_samples_leaf=2, max_features=sqrt, max_depth=None, total=   1.0s\n",
      "[CV] n_estimators=200, min_samples_split=6, min_samples_leaf=2, max_features=sqrt, max_depth=None \n",
      "[CV]  n_estimators=200, min_samples_split=6, min_samples_leaf=2, max_features=sqrt, max_depth=None, total=   1.0s\n",
      "[CV] n_estimators=200, min_samples_split=6, min_samples_leaf=2, max_features=sqrt, max_depth=None \n",
      "[CV]  n_estimators=200, min_samples_split=6, min_samples_leaf=2, max_features=sqrt, max_depth=None, total=   0.9s\n",
      "[CV] n_estimators=200, min_samples_split=6, min_samples_leaf=2, max_features=sqrt, max_depth=None \n",
      "[CV]  n_estimators=200, min_samples_split=6, min_samples_leaf=2, max_features=sqrt, max_depth=None, total=   0.9s\n",
      "[CV] n_estimators=100, min_samples_split=2, min_samples_leaf=4, max_features=auto, max_depth=30 \n",
      "[CV]  n_estimators=100, min_samples_split=2, min_samples_leaf=4, max_features=auto, max_depth=30, total=   0.5s\n",
      "[CV] n_estimators=100, min_samples_split=2, min_samples_leaf=4, max_features=auto, max_depth=30 \n",
      "[CV]  n_estimators=100, min_samples_split=2, min_samples_leaf=4, max_features=auto, max_depth=30, total=   0.5s\n",
      "[CV] n_estimators=100, min_samples_split=2, min_samples_leaf=4, max_features=auto, max_depth=30 \n",
      "[CV]  n_estimators=100, min_samples_split=2, min_samples_leaf=4, max_features=auto, max_depth=30, total=   0.5s\n",
      "[CV] n_estimators=100, min_samples_split=2, min_samples_leaf=4, max_features=auto, max_depth=30 \n",
      "[CV]  n_estimators=100, min_samples_split=2, min_samples_leaf=4, max_features=auto, max_depth=30, total=   0.5s\n",
      "[CV] n_estimators=100, min_samples_split=2, min_samples_leaf=4, max_features=auto, max_depth=30 \n",
      "[CV]  n_estimators=100, min_samples_split=2, min_samples_leaf=4, max_features=auto, max_depth=30, total=   0.5s\n",
      "[CV] n_estimators=1200, min_samples_split=2, min_samples_leaf=2, max_features=sqrt, max_depth=None \n",
      "[CV]  n_estimators=1200, min_samples_split=2, min_samples_leaf=2, max_features=sqrt, max_depth=None, total=   5.6s\n",
      "[CV] n_estimators=1200, min_samples_split=2, min_samples_leaf=2, max_features=sqrt, max_depth=None \n",
      "[CV]  n_estimators=1200, min_samples_split=2, min_samples_leaf=2, max_features=sqrt, max_depth=None, total=   5.9s\n",
      "[CV] n_estimators=1200, min_samples_split=2, min_samples_leaf=2, max_features=sqrt, max_depth=None \n",
      "[CV]  n_estimators=1200, min_samples_split=2, min_samples_leaf=2, max_features=sqrt, max_depth=None, total=   5.6s\n",
      "[CV] n_estimators=1200, min_samples_split=2, min_samples_leaf=2, max_features=sqrt, max_depth=None \n",
      "[CV]  n_estimators=1200, min_samples_split=2, min_samples_leaf=2, max_features=sqrt, max_depth=None, total=   5.7s\n",
      "[CV] n_estimators=1200, min_samples_split=2, min_samples_leaf=2, max_features=sqrt, max_depth=None \n",
      "[CV]  n_estimators=1200, min_samples_split=2, min_samples_leaf=2, max_features=sqrt, max_depth=None, total=   5.6s\n",
      "[CV] n_estimators=500, min_samples_split=4, min_samples_leaf=2, max_features=sqrt, max_depth=10 \n",
      "[CV]  n_estimators=500, min_samples_split=4, min_samples_leaf=2, max_features=sqrt, max_depth=10, total=   2.3s\n",
      "[CV] n_estimators=500, min_samples_split=4, min_samples_leaf=2, max_features=sqrt, max_depth=10 \n",
      "[CV]  n_estimators=500, min_samples_split=4, min_samples_leaf=2, max_features=sqrt, max_depth=10, total=   2.3s\n",
      "[CV] n_estimators=500, min_samples_split=4, min_samples_leaf=2, max_features=sqrt, max_depth=10 \n",
      "[CV]  n_estimators=500, min_samples_split=4, min_samples_leaf=2, max_features=sqrt, max_depth=10, total=   2.3s\n",
      "[CV] n_estimators=500, min_samples_split=4, min_samples_leaf=2, max_features=sqrt, max_depth=10 \n",
      "[CV]  n_estimators=500, min_samples_split=4, min_samples_leaf=2, max_features=sqrt, max_depth=10, total=   2.3s\n",
      "[CV] n_estimators=500, min_samples_split=4, min_samples_leaf=2, max_features=sqrt, max_depth=10 \n",
      "[CV]  n_estimators=500, min_samples_split=4, min_samples_leaf=2, max_features=sqrt, max_depth=10, total=   2.6s\n",
      "[CV] n_estimators=1000, min_samples_split=2, min_samples_leaf=4, max_features=sqrt, max_depth=20 \n",
      "[CV]  n_estimators=1000, min_samples_split=2, min_samples_leaf=4, max_features=sqrt, max_depth=20, total=   4.4s\n",
      "[CV] n_estimators=1000, min_samples_split=2, min_samples_leaf=4, max_features=sqrt, max_depth=20 \n",
      "[CV]  n_estimators=1000, min_samples_split=2, min_samples_leaf=4, max_features=sqrt, max_depth=20, total=   4.4s\n",
      "[CV] n_estimators=1000, min_samples_split=2, min_samples_leaf=4, max_features=sqrt, max_depth=20 \n",
      "[CV]  n_estimators=1000, min_samples_split=2, min_samples_leaf=4, max_features=sqrt, max_depth=20, total=   4.4s\n",
      "[CV] n_estimators=1000, min_samples_split=2, min_samples_leaf=4, max_features=sqrt, max_depth=20 \n",
      "[CV]  n_estimators=1000, min_samples_split=2, min_samples_leaf=4, max_features=sqrt, max_depth=20, total=   4.7s\n",
      "[CV] n_estimators=1000, min_samples_split=2, min_samples_leaf=4, max_features=sqrt, max_depth=20 \n",
      "[CV]  n_estimators=1000, min_samples_split=2, min_samples_leaf=4, max_features=sqrt, max_depth=20, total=   4.3s\n",
      "[CV] n_estimators=10, min_samples_split=2, min_samples_leaf=2, max_features=auto, max_depth=20 \n",
      "[CV]  n_estimators=10, min_samples_split=2, min_samples_leaf=2, max_features=auto, max_depth=20, total=   0.1s\n",
      "[CV] n_estimators=10, min_samples_split=2, min_samples_leaf=2, max_features=auto, max_depth=20 \n",
      "[CV]  n_estimators=10, min_samples_split=2, min_samples_leaf=2, max_features=auto, max_depth=20, total=   0.1s\n",
      "[CV] n_estimators=10, min_samples_split=2, min_samples_leaf=2, max_features=auto, max_depth=20 \n"
     ]
    },
    {
     "name": "stdout",
     "output_type": "stream",
     "text": [
      "[CV]  n_estimators=10, min_samples_split=2, min_samples_leaf=2, max_features=auto, max_depth=20, total=   0.1s\n",
      "[CV] n_estimators=10, min_samples_split=2, min_samples_leaf=2, max_features=auto, max_depth=20 \n",
      "[CV]  n_estimators=10, min_samples_split=2, min_samples_leaf=2, max_features=auto, max_depth=20, total=   0.1s\n",
      "[CV] n_estimators=10, min_samples_split=2, min_samples_leaf=2, max_features=auto, max_depth=20 \n",
      "[CV]  n_estimators=10, min_samples_split=2, min_samples_leaf=2, max_features=auto, max_depth=20, total=   0.1s\n",
      "[CV] n_estimators=1200, min_samples_split=2, min_samples_leaf=1, max_features=sqrt, max_depth=20 \n",
      "[CV]  n_estimators=1200, min_samples_split=2, min_samples_leaf=1, max_features=sqrt, max_depth=20, total=   7.9s\n",
      "[CV] n_estimators=1200, min_samples_split=2, min_samples_leaf=1, max_features=sqrt, max_depth=20 \n",
      "[CV]  n_estimators=1200, min_samples_split=2, min_samples_leaf=1, max_features=sqrt, max_depth=20, total=   6.8s\n",
      "[CV] n_estimators=1200, min_samples_split=2, min_samples_leaf=1, max_features=sqrt, max_depth=20 \n",
      "[CV]  n_estimators=1200, min_samples_split=2, min_samples_leaf=1, max_features=sqrt, max_depth=20, total=   6.1s\n",
      "[CV] n_estimators=1200, min_samples_split=2, min_samples_leaf=1, max_features=sqrt, max_depth=20 \n",
      "[CV]  n_estimators=1200, min_samples_split=2, min_samples_leaf=1, max_features=sqrt, max_depth=20, total=   6.5s\n",
      "[CV] n_estimators=1200, min_samples_split=2, min_samples_leaf=1, max_features=sqrt, max_depth=20 \n",
      "[CV]  n_estimators=1200, min_samples_split=2, min_samples_leaf=1, max_features=sqrt, max_depth=20, total=   6.3s\n",
      "[CV] n_estimators=10, min_samples_split=4, min_samples_leaf=1, max_features=auto, max_depth=None \n",
      "[CV]  n_estimators=10, min_samples_split=4, min_samples_leaf=1, max_features=auto, max_depth=None, total=   0.1s\n",
      "[CV] n_estimators=10, min_samples_split=4, min_samples_leaf=1, max_features=auto, max_depth=None \n",
      "[CV]  n_estimators=10, min_samples_split=4, min_samples_leaf=1, max_features=auto, max_depth=None, total=   0.1s\n",
      "[CV] n_estimators=10, min_samples_split=4, min_samples_leaf=1, max_features=auto, max_depth=None \n",
      "[CV]  n_estimators=10, min_samples_split=4, min_samples_leaf=1, max_features=auto, max_depth=None, total=   0.1s\n",
      "[CV] n_estimators=10, min_samples_split=4, min_samples_leaf=1, max_features=auto, max_depth=None \n",
      "[CV]  n_estimators=10, min_samples_split=4, min_samples_leaf=1, max_features=auto, max_depth=None, total=   0.1s\n",
      "[CV] n_estimators=10, min_samples_split=4, min_samples_leaf=1, max_features=auto, max_depth=None \n",
      "[CV]  n_estimators=10, min_samples_split=4, min_samples_leaf=1, max_features=auto, max_depth=None, total=   0.0s\n",
      "[CV] n_estimators=500, min_samples_split=4, min_samples_leaf=1, max_features=auto, max_depth=5 \n",
      "[CV]  n_estimators=500, min_samples_split=4, min_samples_leaf=1, max_features=auto, max_depth=5, total=   2.1s\n",
      "[CV] n_estimators=500, min_samples_split=4, min_samples_leaf=1, max_features=auto, max_depth=5 \n",
      "[CV]  n_estimators=500, min_samples_split=4, min_samples_leaf=1, max_features=auto, max_depth=5, total=   2.1s\n",
      "[CV] n_estimators=500, min_samples_split=4, min_samples_leaf=1, max_features=auto, max_depth=5 \n",
      "[CV]  n_estimators=500, min_samples_split=4, min_samples_leaf=1, max_features=auto, max_depth=5, total=   2.3s\n",
      "[CV] n_estimators=500, min_samples_split=4, min_samples_leaf=1, max_features=auto, max_depth=5 \n",
      "[CV]  n_estimators=500, min_samples_split=4, min_samples_leaf=1, max_features=auto, max_depth=5, total=   2.3s\n",
      "[CV] n_estimators=500, min_samples_split=4, min_samples_leaf=1, max_features=auto, max_depth=5 \n",
      "[CV]  n_estimators=500, min_samples_split=4, min_samples_leaf=1, max_features=auto, max_depth=5, total=   2.0s\n",
      "[CV] n_estimators=200, min_samples_split=6, min_samples_leaf=2, max_features=sqrt, max_depth=20 \n",
      "[CV]  n_estimators=200, min_samples_split=6, min_samples_leaf=2, max_features=sqrt, max_depth=20, total=   0.9s\n",
      "[CV] n_estimators=200, min_samples_split=6, min_samples_leaf=2, max_features=sqrt, max_depth=20 \n",
      "[CV]  n_estimators=200, min_samples_split=6, min_samples_leaf=2, max_features=sqrt, max_depth=20, total=   0.9s\n",
      "[CV] n_estimators=200, min_samples_split=6, min_samples_leaf=2, max_features=sqrt, max_depth=20 \n",
      "[CV]  n_estimators=200, min_samples_split=6, min_samples_leaf=2, max_features=sqrt, max_depth=20, total=   0.9s\n",
      "[CV] n_estimators=200, min_samples_split=6, min_samples_leaf=2, max_features=sqrt, max_depth=20 \n",
      "[CV]  n_estimators=200, min_samples_split=6, min_samples_leaf=2, max_features=sqrt, max_depth=20, total=   0.9s\n",
      "[CV] n_estimators=200, min_samples_split=6, min_samples_leaf=2, max_features=sqrt, max_depth=20 \n",
      "[CV]  n_estimators=200, min_samples_split=6, min_samples_leaf=2, max_features=sqrt, max_depth=20, total=   1.0s\n",
      "[CV] n_estimators=500, min_samples_split=2, min_samples_leaf=2, max_features=sqrt, max_depth=None \n",
      "[CV]  n_estimators=500, min_samples_split=2, min_samples_leaf=2, max_features=sqrt, max_depth=None, total=   2.3s\n",
      "[CV] n_estimators=500, min_samples_split=2, min_samples_leaf=2, max_features=sqrt, max_depth=None \n",
      "[CV]  n_estimators=500, min_samples_split=2, min_samples_leaf=2, max_features=sqrt, max_depth=None, total=   2.3s\n",
      "[CV] n_estimators=500, min_samples_split=2, min_samples_leaf=2, max_features=sqrt, max_depth=None \n",
      "[CV]  n_estimators=500, min_samples_split=2, min_samples_leaf=2, max_features=sqrt, max_depth=None, total=   2.5s\n",
      "[CV] n_estimators=500, min_samples_split=2, min_samples_leaf=2, max_features=sqrt, max_depth=None \n",
      "[CV]  n_estimators=500, min_samples_split=2, min_samples_leaf=2, max_features=sqrt, max_depth=None, total=   2.5s\n",
      "[CV] n_estimators=500, min_samples_split=2, min_samples_leaf=2, max_features=sqrt, max_depth=None \n",
      "[CV]  n_estimators=500, min_samples_split=2, min_samples_leaf=2, max_features=sqrt, max_depth=None, total=   2.3s\n",
      "[CV] n_estimators=200, min_samples_split=2, min_samples_leaf=1, max_features=sqrt, max_depth=10 \n",
      "[CV]  n_estimators=200, min_samples_split=2, min_samples_leaf=1, max_features=sqrt, max_depth=10, total=   1.0s\n",
      "[CV] n_estimators=200, min_samples_split=2, min_samples_leaf=1, max_features=sqrt, max_depth=10 \n",
      "[CV]  n_estimators=200, min_samples_split=2, min_samples_leaf=1, max_features=sqrt, max_depth=10, total=   1.0s\n",
      "[CV] n_estimators=200, min_samples_split=2, min_samples_leaf=1, max_features=sqrt, max_depth=10 \n",
      "[CV]  n_estimators=200, min_samples_split=2, min_samples_leaf=1, max_features=sqrt, max_depth=10, total=   0.9s\n",
      "[CV] n_estimators=200, min_samples_split=2, min_samples_leaf=1, max_features=sqrt, max_depth=10 \n",
      "[CV]  n_estimators=200, min_samples_split=2, min_samples_leaf=1, max_features=sqrt, max_depth=10, total=   0.9s\n",
      "[CV] n_estimators=200, min_samples_split=2, min_samples_leaf=1, max_features=sqrt, max_depth=10 \n",
      "[CV]  n_estimators=200, min_samples_split=2, min_samples_leaf=1, max_features=sqrt, max_depth=10, total=   1.0s\n",
      "[CV] n_estimators=500, min_samples_split=6, min_samples_leaf=2, max_features=sqrt, max_depth=5 \n",
      "[CV]  n_estimators=500, min_samples_split=6, min_samples_leaf=2, max_features=sqrt, max_depth=5, total=   2.1s\n",
      "[CV] n_estimators=500, min_samples_split=6, min_samples_leaf=2, max_features=sqrt, max_depth=5 \n",
      "[CV]  n_estimators=500, min_samples_split=6, min_samples_leaf=2, max_features=sqrt, max_depth=5, total=   2.0s\n",
      "[CV] n_estimators=500, min_samples_split=6, min_samples_leaf=2, max_features=sqrt, max_depth=5 \n",
      "[CV]  n_estimators=500, min_samples_split=6, min_samples_leaf=2, max_features=sqrt, max_depth=5, total=   2.3s\n",
      "[CV] n_estimators=500, min_samples_split=6, min_samples_leaf=2, max_features=sqrt, max_depth=5 \n",
      "[CV]  n_estimators=500, min_samples_split=6, min_samples_leaf=2, max_features=sqrt, max_depth=5, total=   2.3s\n",
      "[CV] n_estimators=500, min_samples_split=6, min_samples_leaf=2, max_features=sqrt, max_depth=5 \n",
      "[CV]  n_estimators=500, min_samples_split=6, min_samples_leaf=2, max_features=sqrt, max_depth=5, total=   2.0s\n",
      "[CV] n_estimators=200, min_samples_split=4, min_samples_leaf=1, max_features=sqrt, max_depth=30 \n",
      "[CV]  n_estimators=200, min_samples_split=4, min_samples_leaf=1, max_features=sqrt, max_depth=30, total=   1.0s\n",
      "[CV] n_estimators=200, min_samples_split=4, min_samples_leaf=1, max_features=sqrt, max_depth=30 \n",
      "[CV]  n_estimators=200, min_samples_split=4, min_samples_leaf=1, max_features=sqrt, max_depth=30, total=   1.0s\n",
      "[CV] n_estimators=200, min_samples_split=4, min_samples_leaf=1, max_features=sqrt, max_depth=30 \n"
     ]
    },
    {
     "name": "stdout",
     "output_type": "stream",
     "text": [
      "[CV]  n_estimators=200, min_samples_split=4, min_samples_leaf=1, max_features=sqrt, max_depth=30, total=   1.0s\n",
      "[CV] n_estimators=200, min_samples_split=4, min_samples_leaf=1, max_features=sqrt, max_depth=30 \n",
      "[CV]  n_estimators=200, min_samples_split=4, min_samples_leaf=1, max_features=sqrt, max_depth=30, total=   1.0s\n",
      "[CV] n_estimators=200, min_samples_split=4, min_samples_leaf=1, max_features=sqrt, max_depth=30 \n",
      "[CV]  n_estimators=200, min_samples_split=4, min_samples_leaf=1, max_features=sqrt, max_depth=30, total=   1.0s\n",
      "[CV] n_estimators=1200, min_samples_split=4, min_samples_leaf=4, max_features=sqrt, max_depth=None \n",
      "[CV]  n_estimators=1200, min_samples_split=4, min_samples_leaf=4, max_features=sqrt, max_depth=None, total=   5.3s\n",
      "[CV] n_estimators=1200, min_samples_split=4, min_samples_leaf=4, max_features=sqrt, max_depth=None \n",
      "[CV]  n_estimators=1200, min_samples_split=4, min_samples_leaf=4, max_features=sqrt, max_depth=None, total=   5.6s\n",
      "[CV] n_estimators=1200, min_samples_split=4, min_samples_leaf=4, max_features=sqrt, max_depth=None \n",
      "[CV]  n_estimators=1200, min_samples_split=4, min_samples_leaf=4, max_features=sqrt, max_depth=None, total=   5.2s\n",
      "[CV] n_estimators=1200, min_samples_split=4, min_samples_leaf=4, max_features=sqrt, max_depth=None \n",
      "[CV]  n_estimators=1200, min_samples_split=4, min_samples_leaf=4, max_features=sqrt, max_depth=None, total=   5.4s\n",
      "[CV] n_estimators=1200, min_samples_split=4, min_samples_leaf=4, max_features=sqrt, max_depth=None \n",
      "[CV]  n_estimators=1200, min_samples_split=4, min_samples_leaf=4, max_features=sqrt, max_depth=None, total=   5.4s\n",
      "[CV] n_estimators=1000, min_samples_split=2, min_samples_leaf=4, max_features=sqrt, max_depth=30 \n",
      "[CV]  n_estimators=1000, min_samples_split=2, min_samples_leaf=4, max_features=sqrt, max_depth=30, total=   4.5s\n",
      "[CV] n_estimators=1000, min_samples_split=2, min_samples_leaf=4, max_features=sqrt, max_depth=30 \n",
      "[CV]  n_estimators=1000, min_samples_split=2, min_samples_leaf=4, max_features=sqrt, max_depth=30, total=   4.5s\n",
      "[CV] n_estimators=1000, min_samples_split=2, min_samples_leaf=4, max_features=sqrt, max_depth=30 \n",
      "[CV]  n_estimators=1000, min_samples_split=2, min_samples_leaf=4, max_features=sqrt, max_depth=30, total=   4.8s\n",
      "[CV] n_estimators=1000, min_samples_split=2, min_samples_leaf=4, max_features=sqrt, max_depth=30 \n",
      "[CV]  n_estimators=1000, min_samples_split=2, min_samples_leaf=4, max_features=sqrt, max_depth=30, total=   4.4s\n",
      "[CV] n_estimators=1000, min_samples_split=2, min_samples_leaf=4, max_features=sqrt, max_depth=30 \n",
      "[CV]  n_estimators=1000, min_samples_split=2, min_samples_leaf=4, max_features=sqrt, max_depth=30, total=   4.3s\n",
      "[CV] n_estimators=100, min_samples_split=2, min_samples_leaf=1, max_features=sqrt, max_depth=None \n",
      "[CV]  n_estimators=100, min_samples_split=2, min_samples_leaf=1, max_features=sqrt, max_depth=None, total=   0.5s\n",
      "[CV] n_estimators=100, min_samples_split=2, min_samples_leaf=1, max_features=sqrt, max_depth=None \n",
      "[CV]  n_estimators=100, min_samples_split=2, min_samples_leaf=1, max_features=sqrt, max_depth=None, total=   0.5s\n",
      "[CV] n_estimators=100, min_samples_split=2, min_samples_leaf=1, max_features=sqrt, max_depth=None \n",
      "[CV]  n_estimators=100, min_samples_split=2, min_samples_leaf=1, max_features=sqrt, max_depth=None, total=   0.5s\n",
      "[CV] n_estimators=100, min_samples_split=2, min_samples_leaf=1, max_features=sqrt, max_depth=None \n",
      "[CV]  n_estimators=100, min_samples_split=2, min_samples_leaf=1, max_features=sqrt, max_depth=None, total=   0.5s\n",
      "[CV] n_estimators=100, min_samples_split=2, min_samples_leaf=1, max_features=sqrt, max_depth=None \n",
      "[CV]  n_estimators=100, min_samples_split=2, min_samples_leaf=1, max_features=sqrt, max_depth=None, total=   0.6s\n"
     ]
    },
    {
     "name": "stderr",
     "output_type": "stream",
     "text": [
      "[Parallel(n_jobs=1)]: Done 100 out of 100 | elapsed:  4.0min finished\n"
     ]
    }
   ],
   "source": [
    "from sklearn.model_selection import RandomizedSearchCV, train_test_split\n",
    "\n",
    "np.random.seed(42)\n",
    "\n",
    "# Set n_jobs to -1 to use all cores (NOTE: n_jobs=-1 is broken as of 8 Dec 2019, using n_jobs=1 works)\n",
    "clf = RandomForestClassifier(n_jobs=1)\n",
    "\n",
    "# Setup RandomizedSearchCV\n",
    "rs_clf = RandomizedSearchCV(estimator=clf,\n",
    "                            param_distributions=grid,\n",
    "                            n_iter=20, # try 20 models total\n",
    "                            cv=5, # 5-fold cross-validation\n",
    "                            verbose=2) # print out results\n",
    "\n",
    "# Fit the RandomizedSearchCV version of clf\n",
    "rs_clf.fit(X_train, y_train);"
   ]
  },
  {
   "cell_type": "code",
   "execution_count": 64,
   "metadata": {},
   "outputs": [
    {
     "data": {
      "text/plain": [
       "{'n_estimators': 500,\n",
       " 'min_samples_split': 6,\n",
       " 'min_samples_leaf': 2,\n",
       " 'max_features': 'sqrt',\n",
       " 'max_depth': 5}"
      ]
     },
     "execution_count": 64,
     "metadata": {},
     "output_type": "execute_result"
    }
   ],
   "source": [
    "rs_clf.best_params_"
   ]
  },
  {
   "cell_type": "code",
   "execution_count": 65,
   "metadata": {},
   "outputs": [
    {
     "name": "stdout",
     "output_type": "stream",
     "text": [
      "Random Forest accuracy:  81.17%\n",
      "Accuracy Score: 0.8116883116883117 / Precision Score 0.725 / recall_score 0.6170212765957447\n",
      "Confusion  matrix:\n",
      " [[96 11]\n",
      " [18 29]]\n"
     ]
    }
   ],
   "source": [
    "# Random Forest \n",
    "\n",
    "from sklearn.ensemble import RandomForestClassifier\n",
    "rf = RandomForestClassifier(n_estimators=500, min_samples_split=6, min_samples_leaf=2, max_features='sqrt', max_depth=5)\n",
    "rf.fit(X_train, y_train)\n",
    "print(\"Random Forest accuracy: {: .2f}%\".format(rf.score(X_test, y_test)*100))\n",
    "y_pred = rf.predict(X_test)\n",
    "print('Accuracy Score: {} / Precision Score {} / recall_score {}'. format(accuracy_score(y_test, y_pred),\n",
    "                                                                      precision_score(y_test, y_pred),\n",
    "                                                                      recall_score(y_test, y_pred)))\n",
    "cnf_matrix = confusion_matrix(y_test, y_pred)\n",
    "print('Confusion  matrix:\\n {}'.format(cnf_matrix))"
   ]
  },
  {
   "cell_type": "code",
   "execution_count": 57,
   "metadata": {},
   "outputs": [
    {
     "name": "stdout",
     "output_type": "stream",
     "text": [
      " XG boost:  81.17%\n",
      "Accuracy Score: 0.8116883116883117 / Precision Score 0.68 / recall_score 0.723404255319149\n",
      "Confusion  matrix:\n",
      " [[91 16]\n",
      " [13 34]]\n"
     ]
    }
   ],
   "source": [
    "# XG boost\n",
    "\n",
    "import xgboost\n",
    "xg = xgboost.XGBClassifier()\n",
    "xg.fit(X_train, y_train)\n",
    "print(\" XG boost: {: .2f}%\".format(xg.score(X_test, y_test)*100))\n",
    "y_pred = xg.predict(X_test)\n",
    "print('Accuracy Score: {} / Precision Score {} / recall_score {}'. format(accuracy_score(y_test, y_pred),\n",
    "                                                                      precision_score(y_test, y_pred),\n",
    "                                                                      recall_score(y_test, y_pred)))\n",
    "cnf_matrix = confusion_matrix(y_test, y_pred)\n",
    "print('Confusion  matrix:\\n {}'.format(cnf_matrix))"
   ]
  },
  {
   "cell_type": "code",
   "execution_count": 66,
   "metadata": {},
   "outputs": [
    {
     "data": {
      "text/plain": [
       "{'base_score': 0.5,\n",
       " 'booster': 'gbtree',\n",
       " 'colsample_bylevel': 1,\n",
       " 'colsample_bynode': 1,\n",
       " 'colsample_bytree': 1,\n",
       " 'gamma': 0,\n",
       " 'learning_rate': 0.1,\n",
       " 'max_delta_step': 0,\n",
       " 'max_depth': 3,\n",
       " 'min_child_weight': 1,\n",
       " 'missing': None,\n",
       " 'n_estimators': 100,\n",
       " 'n_jobs': 1,\n",
       " 'nthread': None,\n",
       " 'objective': 'binary:logistic',\n",
       " 'random_state': 0,\n",
       " 'reg_alpha': 0,\n",
       " 'reg_lambda': 1,\n",
       " 'scale_pos_weight': 1,\n",
       " 'seed': None,\n",
       " 'silent': None,\n",
       " 'subsample': 1,\n",
       " 'verbosity': 1}"
      ]
     },
     "execution_count": 66,
     "metadata": {},
     "output_type": "execute_result"
    }
   ],
   "source": [
    "xg.get_params()"
   ]
  },
  {
   "cell_type": "code",
   "execution_count": 67,
   "metadata": {},
   "outputs": [],
   "source": [
    "# Hyperparameter grid RandomizedSearchCV will search over\n",
    "grid = {\"n_estimators\": [10, 100, 200, 500, 1000, 1200],\n",
    "        \"max_depth\": [None, 5, 10, 20, 30],\n",
    "        \"learning_rate\": [0.1, 0.3, 0.5, 0.7, 1],\n",
    "        \"min_child_weight\": [2, 4, 6]\n",
    "        }"
   ]
  },
  {
   "cell_type": "code",
   "execution_count": 69,
   "metadata": {},
   "outputs": [
    {
     "name": "stdout",
     "output_type": "stream",
     "text": [
      "Fitting 5 folds for each of 20 candidates, totalling 100 fits\n",
      "[CV] n_estimators=1200, min_child_weight=4, max_depth=10, learning_rate=1 \n"
     ]
    },
    {
     "name": "stderr",
     "output_type": "stream",
     "text": [
      "[Parallel(n_jobs=1)]: Using backend SequentialBackend with 1 concurrent workers.\n"
     ]
    },
    {
     "name": "stdout",
     "output_type": "stream",
     "text": [
      "[CV]  n_estimators=1200, min_child_weight=4, max_depth=10, learning_rate=1, total=   1.1s\n",
      "[CV] n_estimators=1200, min_child_weight=4, max_depth=10, learning_rate=1 \n"
     ]
    },
    {
     "name": "stderr",
     "output_type": "stream",
     "text": [
      "[Parallel(n_jobs=1)]: Done   1 out of   1 | elapsed:    1.0s remaining:    0.0s\n"
     ]
    },
    {
     "name": "stdout",
     "output_type": "stream",
     "text": [
      "[CV]  n_estimators=1200, min_child_weight=4, max_depth=10, learning_rate=1, total=   1.8s\n",
      "[CV] n_estimators=1200, min_child_weight=4, max_depth=10, learning_rate=1 \n",
      "[CV]  n_estimators=1200, min_child_weight=4, max_depth=10, learning_rate=1, total=   1.4s\n",
      "[CV] n_estimators=1200, min_child_weight=4, max_depth=10, learning_rate=1 \n",
      "[CV]  n_estimators=1200, min_child_weight=4, max_depth=10, learning_rate=1, total=   1.4s\n",
      "[CV] n_estimators=1200, min_child_weight=4, max_depth=10, learning_rate=1 \n",
      "[CV]  n_estimators=1200, min_child_weight=4, max_depth=10, learning_rate=1, total=   1.1s\n",
      "[CV] n_estimators=10, min_child_weight=6, max_depth=30, learning_rate=1 \n",
      "[CV]  n_estimators=10, min_child_weight=6, max_depth=30, learning_rate=1, total=   0.0s\n",
      "[CV] n_estimators=10, min_child_weight=6, max_depth=30, learning_rate=1 \n",
      "[CV]  n_estimators=10, min_child_weight=6, max_depth=30, learning_rate=1, total=   0.0s\n",
      "[CV] n_estimators=10, min_child_weight=6, max_depth=30, learning_rate=1 \n",
      "[CV]  n_estimators=10, min_child_weight=6, max_depth=30, learning_rate=1, total=   0.0s\n",
      "[CV] n_estimators=10, min_child_weight=6, max_depth=30, learning_rate=1 \n",
      "[CV]  n_estimators=10, min_child_weight=6, max_depth=30, learning_rate=1, total=   0.0s\n",
      "[CV] n_estimators=10, min_child_weight=6, max_depth=30, learning_rate=1 \n",
      "[CV]  n_estimators=10, min_child_weight=6, max_depth=30, learning_rate=1, total=   0.0s\n",
      "[CV] n_estimators=500, min_child_weight=4, max_depth=5, learning_rate=0.3 \n",
      "[CV]  n_estimators=500, min_child_weight=4, max_depth=5, learning_rate=0.3, total=   0.8s\n",
      "[CV] n_estimators=500, min_child_weight=4, max_depth=5, learning_rate=0.3 \n",
      "[CV]  n_estimators=500, min_child_weight=4, max_depth=5, learning_rate=0.3, total=   0.7s\n",
      "[CV] n_estimators=500, min_child_weight=4, max_depth=5, learning_rate=0.3 \n",
      "[CV]  n_estimators=500, min_child_weight=4, max_depth=5, learning_rate=0.3, total=   0.7s\n",
      "[CV] n_estimators=500, min_child_weight=4, max_depth=5, learning_rate=0.3 \n",
      "[CV]  n_estimators=500, min_child_weight=4, max_depth=5, learning_rate=0.3, total=   0.8s\n",
      "[CV] n_estimators=500, min_child_weight=4, max_depth=5, learning_rate=0.3 \n",
      "[CV]  n_estimators=500, min_child_weight=4, max_depth=5, learning_rate=0.3, total=   0.7s\n",
      "[CV] n_estimators=10, min_child_weight=6, max_depth=5, learning_rate=0.1 \n",
      "[CV]  n_estimators=10, min_child_weight=6, max_depth=5, learning_rate=0.1, total=   0.0s\n",
      "[CV] n_estimators=10, min_child_weight=6, max_depth=5, learning_rate=0.1 \n",
      "[CV]  n_estimators=10, min_child_weight=6, max_depth=5, learning_rate=0.1, total=   0.0s\n",
      "[CV] n_estimators=10, min_child_weight=6, max_depth=5, learning_rate=0.1 \n",
      "[CV]  n_estimators=10, min_child_weight=6, max_depth=5, learning_rate=0.1, total=   0.0s\n",
      "[CV] n_estimators=10, min_child_weight=6, max_depth=5, learning_rate=0.1 \n",
      "[CV]  n_estimators=10, min_child_weight=6, max_depth=5, learning_rate=0.1, total=   0.0s\n",
      "[CV] n_estimators=10, min_child_weight=6, max_depth=5, learning_rate=0.1 \n",
      "[CV]  n_estimators=10, min_child_weight=6, max_depth=5, learning_rate=0.1, total=   0.0s\n",
      "[CV] n_estimators=100, min_child_weight=2, max_depth=20, learning_rate=1 \n",
      "[CV]  n_estimators=100, min_child_weight=2, max_depth=20, learning_rate=1, total=   0.2s\n",
      "[CV] n_estimators=100, min_child_weight=2, max_depth=20, learning_rate=1 \n",
      "[CV]  n_estimators=100, min_child_weight=2, max_depth=20, learning_rate=1, total=   0.2s\n",
      "[CV] n_estimators=100, min_child_weight=2, max_depth=20, learning_rate=1 \n",
      "[CV]  n_estimators=100, min_child_weight=2, max_depth=20, learning_rate=1, total=   0.2s\n",
      "[CV] n_estimators=100, min_child_weight=2, max_depth=20, learning_rate=1 \n",
      "[CV]  n_estimators=100, min_child_weight=2, max_depth=20, learning_rate=1, total=   0.2s\n",
      "[CV] n_estimators=100, min_child_weight=2, max_depth=20, learning_rate=1 \n",
      "[CV]  n_estimators=100, min_child_weight=2, max_depth=20, learning_rate=1, total=   0.2s\n",
      "[CV] n_estimators=100, min_child_weight=6, max_depth=20, learning_rate=0.3 \n",
      "[CV]  n_estimators=100, min_child_weight=6, max_depth=20, learning_rate=0.3, total=   0.2s\n",
      "[CV] n_estimators=100, min_child_weight=6, max_depth=20, learning_rate=0.3 \n",
      "[CV]  n_estimators=100, min_child_weight=6, max_depth=20, learning_rate=0.3, total=   0.2s\n",
      "[CV] n_estimators=100, min_child_weight=6, max_depth=20, learning_rate=0.3 \n",
      "[CV]  n_estimators=100, min_child_weight=6, max_depth=20, learning_rate=0.3, total=   0.2s\n",
      "[CV] n_estimators=100, min_child_weight=6, max_depth=20, learning_rate=0.3 \n",
      "[CV]  n_estimators=100, min_child_weight=6, max_depth=20, learning_rate=0.3, total=   0.2s\n",
      "[CV] n_estimators=100, min_child_weight=6, max_depth=20, learning_rate=0.3 \n",
      "[CV]  n_estimators=100, min_child_weight=6, max_depth=20, learning_rate=0.3, total=   0.2s\n",
      "[CV] n_estimators=100, min_child_weight=2, max_depth=20, learning_rate=0.7 \n",
      "[CV]  n_estimators=100, min_child_weight=2, max_depth=20, learning_rate=0.7, total=   0.2s\n",
      "[CV] n_estimators=100, min_child_weight=2, max_depth=20, learning_rate=0.7 \n",
      "[CV]  n_estimators=100, min_child_weight=2, max_depth=20, learning_rate=0.7, total=   0.2s\n",
      "[CV] n_estimators=100, min_child_weight=2, max_depth=20, learning_rate=0.7 \n",
      "[CV]  n_estimators=100, min_child_weight=2, max_depth=20, learning_rate=0.7, total=   0.2s\n",
      "[CV] n_estimators=100, min_child_weight=2, max_depth=20, learning_rate=0.7 \n",
      "[CV]  n_estimators=100, min_child_weight=2, max_depth=20, learning_rate=0.7, total=   0.2s\n",
      "[CV] n_estimators=100, min_child_weight=2, max_depth=20, learning_rate=0.7 \n",
      "[CV]  n_estimators=100, min_child_weight=2, max_depth=20, learning_rate=0.7, total=   0.2s\n",
      "[CV] n_estimators=500, min_child_weight=6, max_depth=30, learning_rate=1 \n",
      "[CV]  n_estimators=500, min_child_weight=6, max_depth=30, learning_rate=1, total=   0.7s\n",
      "[CV] n_estimators=500, min_child_weight=6, max_depth=30, learning_rate=1 \n",
      "[CV]  n_estimators=500, min_child_weight=6, max_depth=30, learning_rate=1, total=   0.8s\n",
      "[CV] n_estimators=500, min_child_weight=6, max_depth=30, learning_rate=1 \n",
      "[CV]  n_estimators=500, min_child_weight=6, max_depth=30, learning_rate=1, total=   0.7s\n",
      "[CV] n_estimators=500, min_child_weight=6, max_depth=30, learning_rate=1 \n",
      "[CV]  n_estimators=500, min_child_weight=6, max_depth=30, learning_rate=1, total=   0.6s\n",
      "[CV] n_estimators=500, min_child_weight=6, max_depth=30, learning_rate=1 \n",
      "[CV]  n_estimators=500, min_child_weight=6, max_depth=30, learning_rate=1, total=   0.6s\n",
      "[CV] n_estimators=1000, min_child_weight=6, max_depth=30, learning_rate=0.5 \n",
      "[CV]  n_estimators=1000, min_child_weight=6, max_depth=30, learning_rate=0.5, total=   1.2s\n",
      "[CV] n_estimators=1000, min_child_weight=6, max_depth=30, learning_rate=0.5 \n",
      "[CV]  n_estimators=1000, min_child_weight=6, max_depth=30, learning_rate=0.5, total=   1.3s\n",
      "[CV] n_estimators=1000, min_child_weight=6, max_depth=30, learning_rate=0.5 \n",
      "[CV]  n_estimators=1000, min_child_weight=6, max_depth=30, learning_rate=0.5, total=   1.2s\n",
      "[CV] n_estimators=1000, min_child_weight=6, max_depth=30, learning_rate=0.5 \n",
      "[CV]  n_estimators=1000, min_child_weight=6, max_depth=30, learning_rate=0.5, total=   1.1s\n",
      "[CV] n_estimators=1000, min_child_weight=6, max_depth=30, learning_rate=0.5 \n",
      "[CV]  n_estimators=1000, min_child_weight=6, max_depth=30, learning_rate=0.5, total=   1.1s\n",
      "[CV] n_estimators=500, min_child_weight=4, max_depth=5, learning_rate=0.7 \n",
      "[CV]  n_estimators=500, min_child_weight=4, max_depth=5, learning_rate=0.7, total=   0.6s\n",
      "[CV] n_estimators=500, min_child_weight=4, max_depth=5, learning_rate=0.7 \n",
      "[CV]  n_estimators=500, min_child_weight=4, max_depth=5, learning_rate=0.7, total=   0.6s\n",
      "[CV] n_estimators=500, min_child_weight=4, max_depth=5, learning_rate=0.7 \n",
      "[CV]  n_estimators=500, min_child_weight=4, max_depth=5, learning_rate=0.7, total=   0.6s\n",
      "[CV] n_estimators=500, min_child_weight=4, max_depth=5, learning_rate=0.7 \n",
      "[CV]  n_estimators=500, min_child_weight=4, max_depth=5, learning_rate=0.7, total=   0.6s\n",
      "[CV] n_estimators=500, min_child_weight=4, max_depth=5, learning_rate=0.7 \n",
      "[CV]  n_estimators=500, min_child_weight=4, max_depth=5, learning_rate=0.7, total=   0.6s\n",
      "[CV] n_estimators=1200, min_child_weight=2, max_depth=10, learning_rate=0.3 \n",
      "[CV]  n_estimators=1200, min_child_weight=2, max_depth=10, learning_rate=0.3, total=   1.6s\n",
      "[CV] n_estimators=1200, min_child_weight=2, max_depth=10, learning_rate=0.3 \n"
     ]
    },
    {
     "name": "stdout",
     "output_type": "stream",
     "text": [
      "[CV]  n_estimators=1200, min_child_weight=2, max_depth=10, learning_rate=0.3, total=   1.5s\n",
      "[CV] n_estimators=1200, min_child_weight=2, max_depth=10, learning_rate=0.3 \n",
      "[CV]  n_estimators=1200, min_child_weight=2, max_depth=10, learning_rate=0.3, total=   1.5s\n",
      "[CV] n_estimators=1200, min_child_weight=2, max_depth=10, learning_rate=0.3 \n",
      "[CV]  n_estimators=1200, min_child_weight=2, max_depth=10, learning_rate=0.3, total=   1.5s\n",
      "[CV] n_estimators=1200, min_child_weight=2, max_depth=10, learning_rate=0.3 \n",
      "[CV]  n_estimators=1200, min_child_weight=2, max_depth=10, learning_rate=0.3, total=   1.6s\n",
      "[CV] n_estimators=1000, min_child_weight=6, max_depth=20, learning_rate=1 \n",
      "[CV]  n_estimators=1000, min_child_weight=6, max_depth=20, learning_rate=1, total=   1.0s\n",
      "[CV] n_estimators=1000, min_child_weight=6, max_depth=20, learning_rate=1 \n",
      "[CV]  n_estimators=1000, min_child_weight=6, max_depth=20, learning_rate=1, total=   1.0s\n",
      "[CV] n_estimators=1000, min_child_weight=6, max_depth=20, learning_rate=1 \n",
      "[CV]  n_estimators=1000, min_child_weight=6, max_depth=20, learning_rate=1, total=   1.0s\n",
      "[CV] n_estimators=1000, min_child_weight=6, max_depth=20, learning_rate=1 \n",
      "[CV]  n_estimators=1000, min_child_weight=6, max_depth=20, learning_rate=1, total=   1.0s\n",
      "[CV] n_estimators=1000, min_child_weight=6, max_depth=20, learning_rate=1 \n",
      "[CV]  n_estimators=1000, min_child_weight=6, max_depth=20, learning_rate=1, total=   0.9s\n",
      "[CV] n_estimators=1000, min_child_weight=6, max_depth=20, learning_rate=0.1 \n",
      "[CV]  n_estimators=1000, min_child_weight=6, max_depth=20, learning_rate=0.1, total=   1.5s\n",
      "[CV] n_estimators=1000, min_child_weight=6, max_depth=20, learning_rate=0.1 \n",
      "[CV]  n_estimators=1000, min_child_weight=6, max_depth=20, learning_rate=0.1, total=   1.5s\n",
      "[CV] n_estimators=1000, min_child_weight=6, max_depth=20, learning_rate=0.1 \n",
      "[CV]  n_estimators=1000, min_child_weight=6, max_depth=20, learning_rate=0.1, total=   1.9s\n",
      "[CV] n_estimators=1000, min_child_weight=6, max_depth=20, learning_rate=0.1 \n",
      "[CV]  n_estimators=1000, min_child_weight=6, max_depth=20, learning_rate=0.1, total=   1.5s\n",
      "[CV] n_estimators=1000, min_child_weight=6, max_depth=20, learning_rate=0.1 \n",
      "[CV]  n_estimators=1000, min_child_weight=6, max_depth=20, learning_rate=0.1, total=   1.5s\n",
      "[CV] n_estimators=200, min_child_weight=6, max_depth=10, learning_rate=0.3 \n",
      "[CV]  n_estimators=200, min_child_weight=6, max_depth=10, learning_rate=0.3, total=   0.3s\n",
      "[CV] n_estimators=200, min_child_weight=6, max_depth=10, learning_rate=0.3 \n",
      "[CV]  n_estimators=200, min_child_weight=6, max_depth=10, learning_rate=0.3, total=   0.3s\n",
      "[CV] n_estimators=200, min_child_weight=6, max_depth=10, learning_rate=0.3 \n",
      "[CV]  n_estimators=200, min_child_weight=6, max_depth=10, learning_rate=0.3, total=   0.4s\n",
      "[CV] n_estimators=200, min_child_weight=6, max_depth=10, learning_rate=0.3 \n",
      "[CV]  n_estimators=200, min_child_weight=6, max_depth=10, learning_rate=0.3, total=   0.3s\n",
      "[CV] n_estimators=200, min_child_weight=6, max_depth=10, learning_rate=0.3 \n",
      "[CV]  n_estimators=200, min_child_weight=6, max_depth=10, learning_rate=0.3, total=   0.4s\n",
      "[CV] n_estimators=1000, min_child_weight=4, max_depth=10, learning_rate=0.7 \n",
      "[CV]  n_estimators=1000, min_child_weight=4, max_depth=10, learning_rate=0.7, total=   1.1s\n",
      "[CV] n_estimators=1000, min_child_weight=4, max_depth=10, learning_rate=0.7 \n",
      "[CV]  n_estimators=1000, min_child_weight=4, max_depth=10, learning_rate=0.7, total=   1.1s\n",
      "[CV] n_estimators=1000, min_child_weight=4, max_depth=10, learning_rate=0.7 \n",
      "[CV]  n_estimators=1000, min_child_weight=4, max_depth=10, learning_rate=0.7, total=   1.1s\n",
      "[CV] n_estimators=1000, min_child_weight=4, max_depth=10, learning_rate=0.7 \n",
      "[CV]  n_estimators=1000, min_child_weight=4, max_depth=10, learning_rate=0.7, total=   1.1s\n",
      "[CV] n_estimators=1000, min_child_weight=4, max_depth=10, learning_rate=0.7 \n",
      "[CV]  n_estimators=1000, min_child_weight=4, max_depth=10, learning_rate=0.7, total=   1.0s\n",
      "[CV] n_estimators=1000, min_child_weight=6, max_depth=5, learning_rate=0.3 \n",
      "[CV]  n_estimators=1000, min_child_weight=6, max_depth=5, learning_rate=0.3, total=   1.2s\n",
      "[CV] n_estimators=1000, min_child_weight=6, max_depth=5, learning_rate=0.3 \n",
      "[CV]  n_estimators=1000, min_child_weight=6, max_depth=5, learning_rate=0.3, total=   1.2s\n",
      "[CV] n_estimators=1000, min_child_weight=6, max_depth=5, learning_rate=0.3 \n",
      "[CV]  n_estimators=1000, min_child_weight=6, max_depth=5, learning_rate=0.3, total=   1.2s\n",
      "[CV] n_estimators=1000, min_child_weight=6, max_depth=5, learning_rate=0.3 \n",
      "[CV]  n_estimators=1000, min_child_weight=6, max_depth=5, learning_rate=0.3, total=   1.2s\n",
      "[CV] n_estimators=1000, min_child_weight=6, max_depth=5, learning_rate=0.3 \n",
      "[CV]  n_estimators=1000, min_child_weight=6, max_depth=5, learning_rate=0.3, total=   1.2s\n",
      "[CV] n_estimators=500, min_child_weight=6, max_depth=10, learning_rate=0.5 \n",
      "[CV]  n_estimators=500, min_child_weight=6, max_depth=10, learning_rate=0.5, total=   0.6s\n",
      "[CV] n_estimators=500, min_child_weight=6, max_depth=10, learning_rate=0.5 \n",
      "[CV]  n_estimators=500, min_child_weight=6, max_depth=10, learning_rate=0.5, total=   0.7s\n",
      "[CV] n_estimators=500, min_child_weight=6, max_depth=10, learning_rate=0.5 \n",
      "[CV]  n_estimators=500, min_child_weight=6, max_depth=10, learning_rate=0.5, total=   0.7s\n",
      "[CV] n_estimators=500, min_child_weight=6, max_depth=10, learning_rate=0.5 \n",
      "[CV]  n_estimators=500, min_child_weight=6, max_depth=10, learning_rate=0.5, total=   0.6s\n",
      "[CV] n_estimators=500, min_child_weight=6, max_depth=10, learning_rate=0.5 \n",
      "[CV]  n_estimators=500, min_child_weight=6, max_depth=10, learning_rate=0.5, total=   0.6s\n",
      "[CV] n_estimators=100, min_child_weight=2, max_depth=20, learning_rate=0.1 \n",
      "[CV]  n_estimators=100, min_child_weight=2, max_depth=20, learning_rate=0.1, total=   0.3s\n",
      "[CV] n_estimators=100, min_child_weight=2, max_depth=20, learning_rate=0.1 \n",
      "[CV]  n_estimators=100, min_child_weight=2, max_depth=20, learning_rate=0.1, total=   0.3s\n",
      "[CV] n_estimators=100, min_child_weight=2, max_depth=20, learning_rate=0.1 \n",
      "[CV]  n_estimators=100, min_child_weight=2, max_depth=20, learning_rate=0.1, total=   0.3s\n",
      "[CV] n_estimators=100, min_child_weight=2, max_depth=20, learning_rate=0.1 \n",
      "[CV]  n_estimators=100, min_child_weight=2, max_depth=20, learning_rate=0.1, total=   0.4s\n",
      "[CV] n_estimators=100, min_child_weight=2, max_depth=20, learning_rate=0.1 \n",
      "[CV]  n_estimators=100, min_child_weight=2, max_depth=20, learning_rate=0.1, total=   0.4s\n",
      "[CV] n_estimators=1000, min_child_weight=2, max_depth=30, learning_rate=0.1 \n",
      "[CV]  n_estimators=1000, min_child_weight=2, max_depth=30, learning_rate=0.1, total=   1.8s\n",
      "[CV] n_estimators=1000, min_child_weight=2, max_depth=30, learning_rate=0.1 \n",
      "[CV]  n_estimators=1000, min_child_weight=2, max_depth=30, learning_rate=0.1, total=   2.1s\n",
      "[CV] n_estimators=1000, min_child_weight=2, max_depth=30, learning_rate=0.1 \n",
      "[CV]  n_estimators=1000, min_child_weight=2, max_depth=30, learning_rate=0.1, total=   1.9s\n",
      "[CV] n_estimators=1000, min_child_weight=2, max_depth=30, learning_rate=0.1 \n",
      "[CV]  n_estimators=1000, min_child_weight=2, max_depth=30, learning_rate=0.1, total=   1.9s\n",
      "[CV] n_estimators=1000, min_child_weight=2, max_depth=30, learning_rate=0.1 \n",
      "[CV]  n_estimators=1000, min_child_weight=2, max_depth=30, learning_rate=0.1, total=   2.3s\n",
      "[CV] n_estimators=500, min_child_weight=2, max_depth=10, learning_rate=0.1 \n",
      "[CV]  n_estimators=500, min_child_weight=2, max_depth=10, learning_rate=0.1, total=   1.2s\n",
      "[CV] n_estimators=500, min_child_weight=2, max_depth=10, learning_rate=0.1 \n",
      "[CV]  n_estimators=500, min_child_weight=2, max_depth=10, learning_rate=0.1, total=   1.2s\n",
      "[CV] n_estimators=500, min_child_weight=2, max_depth=10, learning_rate=0.1 \n",
      "[CV]  n_estimators=500, min_child_weight=2, max_depth=10, learning_rate=0.1, total=   1.1s\n",
      "[CV] n_estimators=500, min_child_weight=2, max_depth=10, learning_rate=0.1 \n",
      "[CV]  n_estimators=500, min_child_weight=2, max_depth=10, learning_rate=0.1, total=   1.1s\n",
      "[CV] n_estimators=500, min_child_weight=2, max_depth=10, learning_rate=0.1 \n",
      "[CV]  n_estimators=500, min_child_weight=2, max_depth=10, learning_rate=0.1, total=   1.1s\n"
     ]
    },
    {
     "name": "stderr",
     "output_type": "stream",
     "text": [
      "[Parallel(n_jobs=1)]: Done 100 out of 100 | elapsed:  1.4min finished\n"
     ]
    }
   ],
   "source": [
    "from sklearn.model_selection import RandomizedSearchCV, train_test_split\n",
    "\n",
    "np.random.seed(42)\n",
    "\n",
    "# Set n_jobs to -1 to use all cores (NOTE: n_jobs=-1 is broken as of 8 Dec 2019, using n_jobs=1 works)\n",
    "clf = xgboost.XGBClassifier()\n",
    "\n",
    "# Setup RandomizedSearchCV\n",
    "xg_clf = RandomizedSearchCV(estimator=clf,\n",
    "                            param_distributions=grid,\n",
    "                            n_iter=20, # try 20 models total\n",
    "                            cv=5, # 5-fold cross-validation\n",
    "                            verbose=2) # print out results\n",
    "\n",
    "# Fit the RandomizedSearchCV version of clf\n",
    "xg_clf.fit(X_train, y_train);"
   ]
  },
  {
   "cell_type": "code",
   "execution_count": 70,
   "metadata": {},
   "outputs": [
    {
     "data": {
      "text/plain": [
       "{'n_estimators': 10,\n",
       " 'min_child_weight': 6,\n",
       " 'max_depth': 5,\n",
       " 'learning_rate': 0.1}"
      ]
     },
     "execution_count": 70,
     "metadata": {},
     "output_type": "execute_result"
    }
   ],
   "source": [
    "xg_clf.best_params_"
   ]
  },
  {
   "cell_type": "code",
   "execution_count": 71,
   "metadata": {},
   "outputs": [
    {
     "name": "stdout",
     "output_type": "stream",
     "text": [
      " XG boost:  82.47%\n",
      "Accuracy Score: 0.8246753246753247 / Precision Score 0.717391304347826 / recall_score 0.7021276595744681\n",
      "Confusion  matrix:\n",
      " [[94 13]\n",
      " [14 33]]\n"
     ]
    }
   ],
   "source": [
    "xg = xgboost.XGBClassifier(n_estimators= 10,min_child_weight= 6,max_depth= 5,learning_rate= 0.1)\n",
    "xg.fit(X_train, y_train)\n",
    "print(\" XG boost: {: .2f}%\".format(xg.score(X_test, y_test)*100))\n",
    "y_pred = xg.predict(X_test)\n",
    "print('Accuracy Score: {} / Precision Score {} / recall_score {}'. format(accuracy_score(y_test, y_pred),\n",
    "                                                                      precision_score(y_test, y_pred),\n",
    "                                                                      recall_score(y_test, y_pred)))\n",
    "cnf_matrix = confusion_matrix(y_test, y_pred)\n",
    "print('Confusion  matrix:\\n {}'.format(cnf_matrix))"
   ]
  },
  {
   "cell_type": "code",
   "execution_count": 58,
   "metadata": {},
   "outputs": [
    {
     "name": "stdout",
     "output_type": "stream",
     "text": [
      "Accuracy Score: 0.8051948051948052 / Precision Score 0.6808510638297872 / recall_score 0.6808510638297872\n",
      "Confusion  matrix:\n",
      " [[92 15]\n",
      " [15 32]]\n"
     ]
    }
   ],
   "source": [
    "from sklearn.ensemble import GradientBoostingClassifier\n",
    "gb = GradientBoostingClassifier()\n",
    "gb.fit(X_train, y_train)\n",
    "y_pred = gb.predict(X_test)\n",
    "print('Accuracy Score: {} / Precision Score {} / recall_score {}'. format(accuracy_score(y_test, y_pred),\n",
    "                                                                      precision_score(y_test, y_pred),\n",
    "                                                                      recall_score(y_test, y_pred)))\n",
    "cnf_matrix = confusion_matrix(y_test, y_pred)\n",
    "print('Confusion  matrix:\\n {}'.format(cnf_matrix))"
   ]
  },
  {
   "cell_type": "code",
   "execution_count": 72,
   "metadata": {
    "scrolled": true
   },
   "outputs": [
    {
     "data": {
      "text/plain": [
       "{'criterion': 'friedman_mse',\n",
       " 'init': None,\n",
       " 'learning_rate': 0.1,\n",
       " 'loss': 'deviance',\n",
       " 'max_depth': 3,\n",
       " 'max_features': None,\n",
       " 'max_leaf_nodes': None,\n",
       " 'min_impurity_decrease': 0.0,\n",
       " 'min_impurity_split': None,\n",
       " 'min_samples_leaf': 1,\n",
       " 'min_samples_split': 2,\n",
       " 'min_weight_fraction_leaf': 0.0,\n",
       " 'n_estimators': 100,\n",
       " 'n_iter_no_change': None,\n",
       " 'presort': 'auto',\n",
       " 'random_state': None,\n",
       " 'subsample': 1.0,\n",
       " 'tol': 0.0001,\n",
       " 'validation_fraction': 0.1,\n",
       " 'verbose': 0,\n",
       " 'warm_start': False}"
      ]
     },
     "execution_count": 72,
     "metadata": {},
     "output_type": "execute_result"
    }
   ],
   "source": [
    "gb.get_params()"
   ]
  },
  {
   "cell_type": "code",
   "execution_count": 73,
   "metadata": {},
   "outputs": [],
   "source": [
    "# Hyperparameter grid RandomizedSearchCV will search over\n",
    "grid = {\"n_estimators\": [10, 100, 200, 500, 1000, 1200],\n",
    "        \"max_depth\": [None, 5, 10, 20, 30],\n",
    "        \"max_features\": [\"auto\", \"sqrt\"],\n",
    "        \"min_samples_split\": [2, 4, 6],\n",
    "        \"min_samples_leaf\": [1, 2, 4],\n",
    "       \"learning_rate\":[0.1, 1, 10, 20]}"
   ]
  },
  {
   "cell_type": "code",
   "execution_count": 74,
   "metadata": {},
   "outputs": [
    {
     "name": "stdout",
     "output_type": "stream",
     "text": [
      "Fitting 5 folds for each of 20 candidates, totalling 100 fits\n",
      "[CV] n_estimators=200, min_samples_split=6, min_samples_leaf=4, max_features=sqrt, max_depth=10, learning_rate=1 \n"
     ]
    },
    {
     "name": "stderr",
     "output_type": "stream",
     "text": [
      "[Parallel(n_jobs=1)]: Using backend SequentialBackend with 1 concurrent workers.\n"
     ]
    },
    {
     "name": "stdout",
     "output_type": "stream",
     "text": [
      "[CV]  n_estimators=200, min_samples_split=6, min_samples_leaf=4, max_features=sqrt, max_depth=10, learning_rate=1, total=   0.5s\n",
      "[CV] n_estimators=200, min_samples_split=6, min_samples_leaf=4, max_features=sqrt, max_depth=10, learning_rate=1 \n"
     ]
    },
    {
     "name": "stderr",
     "output_type": "stream",
     "text": [
      "[Parallel(n_jobs=1)]: Done   1 out of   1 | elapsed:    0.4s remaining:    0.0s\n"
     ]
    },
    {
     "name": "stdout",
     "output_type": "stream",
     "text": [
      "[CV]  n_estimators=200, min_samples_split=6, min_samples_leaf=4, max_features=sqrt, max_depth=10, learning_rate=1, total=   0.5s\n",
      "[CV] n_estimators=200, min_samples_split=6, min_samples_leaf=4, max_features=sqrt, max_depth=10, learning_rate=1 \n",
      "[CV]  n_estimators=200, min_samples_split=6, min_samples_leaf=4, max_features=sqrt, max_depth=10, learning_rate=1, total=   0.6s\n",
      "[CV] n_estimators=200, min_samples_split=6, min_samples_leaf=4, max_features=sqrt, max_depth=10, learning_rate=1 \n",
      "[CV]  n_estimators=200, min_samples_split=6, min_samples_leaf=4, max_features=sqrt, max_depth=10, learning_rate=1, total=   0.6s\n",
      "[CV] n_estimators=200, min_samples_split=6, min_samples_leaf=4, max_features=sqrt, max_depth=10, learning_rate=1 \n",
      "[CV]  n_estimators=200, min_samples_split=6, min_samples_leaf=4, max_features=sqrt, max_depth=10, learning_rate=1, total=   0.5s\n",
      "[CV] n_estimators=1000, min_samples_split=6, min_samples_leaf=4, max_features=sqrt, max_depth=5, learning_rate=10 \n",
      "[CV]  n_estimators=1000, min_samples_split=6, min_samples_leaf=4, max_features=sqrt, max_depth=5, learning_rate=10, total=   7.1s\n",
      "[CV] n_estimators=1000, min_samples_split=6, min_samples_leaf=4, max_features=sqrt, max_depth=5, learning_rate=10 \n",
      "[CV]  n_estimators=1000, min_samples_split=6, min_samples_leaf=4, max_features=sqrt, max_depth=5, learning_rate=10, total=   6.3s\n",
      "[CV] n_estimators=1000, min_samples_split=6, min_samples_leaf=4, max_features=sqrt, max_depth=5, learning_rate=10 \n",
      "[CV]  n_estimators=1000, min_samples_split=6, min_samples_leaf=4, max_features=sqrt, max_depth=5, learning_rate=10, total=   5.7s\n",
      "[CV] n_estimators=1000, min_samples_split=6, min_samples_leaf=4, max_features=sqrt, max_depth=5, learning_rate=10 \n",
      "[CV]  n_estimators=1000, min_samples_split=6, min_samples_leaf=4, max_features=sqrt, max_depth=5, learning_rate=10, total=   6.5s\n",
      "[CV] n_estimators=1000, min_samples_split=6, min_samples_leaf=4, max_features=sqrt, max_depth=5, learning_rate=10 \n",
      "[CV]  n_estimators=1000, min_samples_split=6, min_samples_leaf=4, max_features=sqrt, max_depth=5, learning_rate=10, total=   5.4s\n",
      "[CV] n_estimators=200, min_samples_split=6, min_samples_leaf=4, max_features=auto, max_depth=None, learning_rate=10 \n",
      "[CV]  n_estimators=200, min_samples_split=6, min_samples_leaf=4, max_features=auto, max_depth=None, learning_rate=10, total=   2.4s\n",
      "[CV] n_estimators=200, min_samples_split=6, min_samples_leaf=4, max_features=auto, max_depth=None, learning_rate=10 \n",
      "[CV]  n_estimators=200, min_samples_split=6, min_samples_leaf=4, max_features=auto, max_depth=None, learning_rate=10, total=   2.2s\n",
      "[CV] n_estimators=200, min_samples_split=6, min_samples_leaf=4, max_features=auto, max_depth=None, learning_rate=10 \n",
      "[CV]  n_estimators=200, min_samples_split=6, min_samples_leaf=4, max_features=auto, max_depth=None, learning_rate=10, total=   2.7s\n",
      "[CV] n_estimators=200, min_samples_split=6, min_samples_leaf=4, max_features=auto, max_depth=None, learning_rate=10 \n",
      "[CV]  n_estimators=200, min_samples_split=6, min_samples_leaf=4, max_features=auto, max_depth=None, learning_rate=10, total=   2.4s\n",
      "[CV] n_estimators=200, min_samples_split=6, min_samples_leaf=4, max_features=auto, max_depth=None, learning_rate=10 \n",
      "[CV]  n_estimators=200, min_samples_split=6, min_samples_leaf=4, max_features=auto, max_depth=None, learning_rate=10, total=   2.7s\n",
      "[CV] n_estimators=500, min_samples_split=6, min_samples_leaf=1, max_features=auto, max_depth=None, learning_rate=10 \n",
      "[CV]  n_estimators=500, min_samples_split=6, min_samples_leaf=1, max_features=auto, max_depth=None, learning_rate=10, total=   3.9s\n",
      "[CV] n_estimators=500, min_samples_split=6, min_samples_leaf=1, max_features=auto, max_depth=None, learning_rate=10 \n",
      "[CV]  n_estimators=500, min_samples_split=6, min_samples_leaf=1, max_features=auto, max_depth=None, learning_rate=10, total=   3.4s\n",
      "[CV] n_estimators=500, min_samples_split=6, min_samples_leaf=1, max_features=auto, max_depth=None, learning_rate=10 \n",
      "[CV]  n_estimators=500, min_samples_split=6, min_samples_leaf=1, max_features=auto, max_depth=None, learning_rate=10, total=   2.9s\n",
      "[CV] n_estimators=500, min_samples_split=6, min_samples_leaf=1, max_features=auto, max_depth=None, learning_rate=10 \n",
      "[CV]  n_estimators=500, min_samples_split=6, min_samples_leaf=1, max_features=auto, max_depth=None, learning_rate=10, total=   3.9s\n",
      "[CV] n_estimators=500, min_samples_split=6, min_samples_leaf=1, max_features=auto, max_depth=None, learning_rate=10 \n",
      "[CV]  n_estimators=500, min_samples_split=6, min_samples_leaf=1, max_features=auto, max_depth=None, learning_rate=10, total=   2.6s\n",
      "[CV] n_estimators=10, min_samples_split=2, min_samples_leaf=2, max_features=auto, max_depth=None, learning_rate=20 \n",
      "[CV]  n_estimators=10, min_samples_split=2, min_samples_leaf=2, max_features=auto, max_depth=None, learning_rate=20, total=   0.1s\n",
      "[CV] n_estimators=10, min_samples_split=2, min_samples_leaf=2, max_features=auto, max_depth=None, learning_rate=20 \n",
      "[CV]  n_estimators=10, min_samples_split=2, min_samples_leaf=2, max_features=auto, max_depth=None, learning_rate=20, total=   0.1s\n",
      "[CV] n_estimators=10, min_samples_split=2, min_samples_leaf=2, max_features=auto, max_depth=None, learning_rate=20 \n",
      "[CV]  n_estimators=10, min_samples_split=2, min_samples_leaf=2, max_features=auto, max_depth=None, learning_rate=20, total=   0.1s\n",
      "[CV] n_estimators=10, min_samples_split=2, min_samples_leaf=2, max_features=auto, max_depth=None, learning_rate=20 \n",
      "[CV]  n_estimators=10, min_samples_split=2, min_samples_leaf=2, max_features=auto, max_depth=None, learning_rate=20, total=   0.1s\n",
      "[CV] n_estimators=10, min_samples_split=2, min_samples_leaf=2, max_features=auto, max_depth=None, learning_rate=20 \n",
      "[CV]  n_estimators=10, min_samples_split=2, min_samples_leaf=2, max_features=auto, max_depth=None, learning_rate=20, total=   0.1s\n",
      "[CV] n_estimators=1000, min_samples_split=6, min_samples_leaf=2, max_features=auto, max_depth=30, learning_rate=0.1 \n",
      "[CV]  n_estimators=1000, min_samples_split=6, min_samples_leaf=2, max_features=auto, max_depth=30, learning_rate=0.1, total=   3.8s\n",
      "[CV] n_estimators=1000, min_samples_split=6, min_samples_leaf=2, max_features=auto, max_depth=30, learning_rate=0.1 \n",
      "[CV]  n_estimators=1000, min_samples_split=6, min_samples_leaf=2, max_features=auto, max_depth=30, learning_rate=0.1, total=   3.5s\n",
      "[CV] n_estimators=1000, min_samples_split=6, min_samples_leaf=2, max_features=auto, max_depth=30, learning_rate=0.1 \n",
      "[CV]  n_estimators=1000, min_samples_split=6, min_samples_leaf=2, max_features=auto, max_depth=30, learning_rate=0.1, total=   3.6s\n",
      "[CV] n_estimators=1000, min_samples_split=6, min_samples_leaf=2, max_features=auto, max_depth=30, learning_rate=0.1 \n",
      "[CV]  n_estimators=1000, min_samples_split=6, min_samples_leaf=2, max_features=auto, max_depth=30, learning_rate=0.1, total=   3.5s\n",
      "[CV] n_estimators=1000, min_samples_split=6, min_samples_leaf=2, max_features=auto, max_depth=30, learning_rate=0.1 \n",
      "[CV]  n_estimators=1000, min_samples_split=6, min_samples_leaf=2, max_features=auto, max_depth=30, learning_rate=0.1, total=   3.5s\n",
      "[CV] n_estimators=200, min_samples_split=6, min_samples_leaf=4, max_features=auto, max_depth=5, learning_rate=10 \n",
      "[CV]  n_estimators=200, min_samples_split=6, min_samples_leaf=4, max_features=auto, max_depth=5, learning_rate=10, total=   1.7s\n",
      "[CV] n_estimators=200, min_samples_split=6, min_samples_leaf=4, max_features=auto, max_depth=5, learning_rate=10 \n",
      "[CV]  n_estimators=200, min_samples_split=6, min_samples_leaf=4, max_features=auto, max_depth=5, learning_rate=10, total=   1.5s\n",
      "[CV] n_estimators=200, min_samples_split=6, min_samples_leaf=4, max_features=auto, max_depth=5, learning_rate=10 \n",
      "[CV]  n_estimators=200, min_samples_split=6, min_samples_leaf=4, max_features=auto, max_depth=5, learning_rate=10, total=   1.2s\n",
      "[CV] n_estimators=200, min_samples_split=6, min_samples_leaf=4, max_features=auto, max_depth=5, learning_rate=10 \n",
      "[CV]  n_estimators=200, min_samples_split=6, min_samples_leaf=4, max_features=auto, max_depth=5, learning_rate=10, total=   1.5s\n",
      "[CV] n_estimators=200, min_samples_split=6, min_samples_leaf=4, max_features=auto, max_depth=5, learning_rate=10 \n",
      "[CV]  n_estimators=200, min_samples_split=6, min_samples_leaf=4, max_features=auto, max_depth=5, learning_rate=10, total=   1.7s\n",
      "[CV] n_estimators=10, min_samples_split=4, min_samples_leaf=1, max_features=auto, max_depth=20, learning_rate=0.1 \n"
     ]
    },
    {
     "name": "stdout",
     "output_type": "stream",
     "text": [
      "[CV]  n_estimators=10, min_samples_split=4, min_samples_leaf=1, max_features=auto, max_depth=20, learning_rate=0.1, total=   0.3s\n",
      "[CV] n_estimators=10, min_samples_split=4, min_samples_leaf=1, max_features=auto, max_depth=20, learning_rate=0.1 \n",
      "[CV]  n_estimators=10, min_samples_split=4, min_samples_leaf=1, max_features=auto, max_depth=20, learning_rate=0.1, total=   0.3s\n",
      "[CV] n_estimators=10, min_samples_split=4, min_samples_leaf=1, max_features=auto, max_depth=20, learning_rate=0.1 \n",
      "[CV]  n_estimators=10, min_samples_split=4, min_samples_leaf=1, max_features=auto, max_depth=20, learning_rate=0.1, total=   0.3s\n",
      "[CV] n_estimators=10, min_samples_split=4, min_samples_leaf=1, max_features=auto, max_depth=20, learning_rate=0.1 \n",
      "[CV]  n_estimators=10, min_samples_split=4, min_samples_leaf=1, max_features=auto, max_depth=20, learning_rate=0.1, total=   0.3s\n",
      "[CV] n_estimators=10, min_samples_split=4, min_samples_leaf=1, max_features=auto, max_depth=20, learning_rate=0.1 \n",
      "[CV]  n_estimators=10, min_samples_split=4, min_samples_leaf=1, max_features=auto, max_depth=20, learning_rate=0.1, total=   0.2s\n",
      "[CV] n_estimators=10, min_samples_split=4, min_samples_leaf=2, max_features=sqrt, max_depth=20, learning_rate=10 \n",
      "[CV]  n_estimators=10, min_samples_split=4, min_samples_leaf=2, max_features=sqrt, max_depth=20, learning_rate=10, total=   0.1s\n",
      "[CV] n_estimators=10, min_samples_split=4, min_samples_leaf=2, max_features=sqrt, max_depth=20, learning_rate=10 \n",
      "[CV]  n_estimators=10, min_samples_split=4, min_samples_leaf=2, max_features=sqrt, max_depth=20, learning_rate=10, total=   0.1s\n",
      "[CV] n_estimators=10, min_samples_split=4, min_samples_leaf=2, max_features=sqrt, max_depth=20, learning_rate=10 \n",
      "[CV]  n_estimators=10, min_samples_split=4, min_samples_leaf=2, max_features=sqrt, max_depth=20, learning_rate=10, total=   0.1s\n",
      "[CV] n_estimators=10, min_samples_split=4, min_samples_leaf=2, max_features=sqrt, max_depth=20, learning_rate=10 \n",
      "[CV]  n_estimators=10, min_samples_split=4, min_samples_leaf=2, max_features=sqrt, max_depth=20, learning_rate=10, total=   0.1s\n",
      "[CV] n_estimators=10, min_samples_split=4, min_samples_leaf=2, max_features=sqrt, max_depth=20, learning_rate=10 \n",
      "[CV]  n_estimators=10, min_samples_split=4, min_samples_leaf=2, max_features=sqrt, max_depth=20, learning_rate=10, total=   0.1s\n",
      "[CV] n_estimators=1200, min_samples_split=4, min_samples_leaf=2, max_features=sqrt, max_depth=30, learning_rate=20 \n",
      "[CV]  n_estimators=1200, min_samples_split=4, min_samples_leaf=2, max_features=sqrt, max_depth=30, learning_rate=20, total=   1.4s\n",
      "[CV] n_estimators=1200, min_samples_split=4, min_samples_leaf=2, max_features=sqrt, max_depth=30, learning_rate=20 \n",
      "[CV]  n_estimators=1200, min_samples_split=4, min_samples_leaf=2, max_features=sqrt, max_depth=30, learning_rate=20, total=   4.4s\n",
      "[CV] n_estimators=1200, min_samples_split=4, min_samples_leaf=2, max_features=sqrt, max_depth=30, learning_rate=20 \n",
      "[CV]  n_estimators=1200, min_samples_split=4, min_samples_leaf=2, max_features=sqrt, max_depth=30, learning_rate=20, total=   1.6s\n",
      "[CV] n_estimators=1200, min_samples_split=4, min_samples_leaf=2, max_features=sqrt, max_depth=30, learning_rate=20 \n",
      "[CV]  n_estimators=1200, min_samples_split=4, min_samples_leaf=2, max_features=sqrt, max_depth=30, learning_rate=20, total=   1.5s\n",
      "[CV] n_estimators=1200, min_samples_split=4, min_samples_leaf=2, max_features=sqrt, max_depth=30, learning_rate=20 \n",
      "[CV]  n_estimators=1200, min_samples_split=4, min_samples_leaf=2, max_features=sqrt, max_depth=30, learning_rate=20, total=   4.3s\n",
      "[CV] n_estimators=1000, min_samples_split=2, min_samples_leaf=2, max_features=auto, max_depth=5, learning_rate=0.1 \n",
      "[CV]  n_estimators=1000, min_samples_split=2, min_samples_leaf=2, max_features=auto, max_depth=5, learning_rate=0.1, total=   3.5s\n",
      "[CV] n_estimators=1000, min_samples_split=2, min_samples_leaf=2, max_features=auto, max_depth=5, learning_rate=0.1 \n",
      "[CV]  n_estimators=1000, min_samples_split=2, min_samples_leaf=2, max_features=auto, max_depth=5, learning_rate=0.1, total=   3.6s\n",
      "[CV] n_estimators=1000, min_samples_split=2, min_samples_leaf=2, max_features=auto, max_depth=5, learning_rate=0.1 \n",
      "[CV]  n_estimators=1000, min_samples_split=2, min_samples_leaf=2, max_features=auto, max_depth=5, learning_rate=0.1, total=   3.9s\n",
      "[CV] n_estimators=1000, min_samples_split=2, min_samples_leaf=2, max_features=auto, max_depth=5, learning_rate=0.1 \n",
      "[CV]  n_estimators=1000, min_samples_split=2, min_samples_leaf=2, max_features=auto, max_depth=5, learning_rate=0.1, total=   3.4s\n",
      "[CV] n_estimators=1000, min_samples_split=2, min_samples_leaf=2, max_features=auto, max_depth=5, learning_rate=0.1 \n",
      "[CV]  n_estimators=1000, min_samples_split=2, min_samples_leaf=2, max_features=auto, max_depth=5, learning_rate=0.1, total=   3.4s\n",
      "[CV] n_estimators=1200, min_samples_split=4, min_samples_leaf=1, max_features=sqrt, max_depth=None, learning_rate=20 \n",
      "[CV]  n_estimators=1200, min_samples_split=4, min_samples_leaf=1, max_features=sqrt, max_depth=None, learning_rate=20, total=   1.4s\n",
      "[CV] n_estimators=1200, min_samples_split=4, min_samples_leaf=1, max_features=sqrt, max_depth=None, learning_rate=20 \n",
      "[CV]  n_estimators=1200, min_samples_split=4, min_samples_leaf=1, max_features=sqrt, max_depth=None, learning_rate=20, total=  12.1s\n",
      "[CV] n_estimators=1200, min_samples_split=4, min_samples_leaf=1, max_features=sqrt, max_depth=None, learning_rate=20 \n",
      "[CV]  n_estimators=1200, min_samples_split=4, min_samples_leaf=1, max_features=sqrt, max_depth=None, learning_rate=20, total=   3.2s\n",
      "[CV] n_estimators=1200, min_samples_split=4, min_samples_leaf=1, max_features=sqrt, max_depth=None, learning_rate=20 \n",
      "[CV]  n_estimators=1200, min_samples_split=4, min_samples_leaf=1, max_features=sqrt, max_depth=None, learning_rate=20, total=   5.1s\n",
      "[CV] n_estimators=1200, min_samples_split=4, min_samples_leaf=1, max_features=sqrt, max_depth=None, learning_rate=20 \n",
      "[CV]  n_estimators=1200, min_samples_split=4, min_samples_leaf=1, max_features=sqrt, max_depth=None, learning_rate=20, total=   4.4s\n",
      "[CV] n_estimators=100, min_samples_split=6, min_samples_leaf=1, max_features=auto, max_depth=10, learning_rate=1 \n",
      "[CV]  n_estimators=100, min_samples_split=6, min_samples_leaf=1, max_features=auto, max_depth=10, learning_rate=1, total=   0.4s\n",
      "[CV] n_estimators=100, min_samples_split=6, min_samples_leaf=1, max_features=auto, max_depth=10, learning_rate=1 \n",
      "[CV]  n_estimators=100, min_samples_split=6, min_samples_leaf=1, max_features=auto, max_depth=10, learning_rate=1, total=   0.4s\n",
      "[CV] n_estimators=100, min_samples_split=6, min_samples_leaf=1, max_features=auto, max_depth=10, learning_rate=1 \n",
      "[CV]  n_estimators=100, min_samples_split=6, min_samples_leaf=1, max_features=auto, max_depth=10, learning_rate=1, total=   0.4s\n",
      "[CV] n_estimators=100, min_samples_split=6, min_samples_leaf=1, max_features=auto, max_depth=10, learning_rate=1 \n",
      "[CV]  n_estimators=100, min_samples_split=6, min_samples_leaf=1, max_features=auto, max_depth=10, learning_rate=1, total=   0.4s\n",
      "[CV] n_estimators=100, min_samples_split=6, min_samples_leaf=1, max_features=auto, max_depth=10, learning_rate=1 \n",
      "[CV]  n_estimators=100, min_samples_split=6, min_samples_leaf=1, max_features=auto, max_depth=10, learning_rate=1, total=   0.3s\n",
      "[CV] n_estimators=500, min_samples_split=2, min_samples_leaf=1, max_features=auto, max_depth=30, learning_rate=10 \n",
      "[CV]  n_estimators=500, min_samples_split=2, min_samples_leaf=1, max_features=auto, max_depth=30, learning_rate=10, total=   0.6s\n",
      "[CV] n_estimators=500, min_samples_split=2, min_samples_leaf=1, max_features=auto, max_depth=30, learning_rate=10 \n",
      "[CV]  n_estimators=500, min_samples_split=2, min_samples_leaf=1, max_features=auto, max_depth=30, learning_rate=10, total=   0.6s\n",
      "[CV] n_estimators=500, min_samples_split=2, min_samples_leaf=1, max_features=auto, max_depth=30, learning_rate=10 \n",
      "[CV]  n_estimators=500, min_samples_split=2, min_samples_leaf=1, max_features=auto, max_depth=30, learning_rate=10, total=   0.6s\n",
      "[CV] n_estimators=500, min_samples_split=2, min_samples_leaf=1, max_features=auto, max_depth=30, learning_rate=10 \n",
      "[CV]  n_estimators=500, min_samples_split=2, min_samples_leaf=1, max_features=auto, max_depth=30, learning_rate=10, total=   0.6s\n",
      "[CV] n_estimators=500, min_samples_split=2, min_samples_leaf=1, max_features=auto, max_depth=30, learning_rate=10 \n"
     ]
    },
    {
     "name": "stdout",
     "output_type": "stream",
     "text": [
      "[CV]  n_estimators=500, min_samples_split=2, min_samples_leaf=1, max_features=auto, max_depth=30, learning_rate=10, total=   0.6s\n",
      "[CV] n_estimators=500, min_samples_split=4, min_samples_leaf=2, max_features=auto, max_depth=5, learning_rate=10 \n",
      "[CV]  n_estimators=500, min_samples_split=4, min_samples_leaf=2, max_features=auto, max_depth=5, learning_rate=10, total=   3.9s\n",
      "[CV] n_estimators=500, min_samples_split=4, min_samples_leaf=2, max_features=auto, max_depth=5, learning_rate=10 \n",
      "[CV]  n_estimators=500, min_samples_split=4, min_samples_leaf=2, max_features=auto, max_depth=5, learning_rate=10, total=   4.1s\n",
      "[CV] n_estimators=500, min_samples_split=4, min_samples_leaf=2, max_features=auto, max_depth=5, learning_rate=10 \n",
      "[CV]  n_estimators=500, min_samples_split=4, min_samples_leaf=2, max_features=auto, max_depth=5, learning_rate=10, total=   4.8s\n",
      "[CV] n_estimators=500, min_samples_split=4, min_samples_leaf=2, max_features=auto, max_depth=5, learning_rate=10 \n",
      "[CV]  n_estimators=500, min_samples_split=4, min_samples_leaf=2, max_features=auto, max_depth=5, learning_rate=10, total=   4.0s\n",
      "[CV] n_estimators=500, min_samples_split=4, min_samples_leaf=2, max_features=auto, max_depth=5, learning_rate=10 \n",
      "[CV]  n_estimators=500, min_samples_split=4, min_samples_leaf=2, max_features=auto, max_depth=5, learning_rate=10, total=   4.0s\n",
      "[CV] n_estimators=100, min_samples_split=2, min_samples_leaf=4, max_features=sqrt, max_depth=20, learning_rate=1 \n",
      "[CV]  n_estimators=100, min_samples_split=2, min_samples_leaf=4, max_features=sqrt, max_depth=20, learning_rate=1, total=   0.4s\n",
      "[CV] n_estimators=100, min_samples_split=2, min_samples_leaf=4, max_features=sqrt, max_depth=20, learning_rate=1 \n",
      "[CV]  n_estimators=100, min_samples_split=2, min_samples_leaf=4, max_features=sqrt, max_depth=20, learning_rate=1, total=   0.4s\n",
      "[CV] n_estimators=100, min_samples_split=2, min_samples_leaf=4, max_features=sqrt, max_depth=20, learning_rate=1 \n",
      "[CV]  n_estimators=100, min_samples_split=2, min_samples_leaf=4, max_features=sqrt, max_depth=20, learning_rate=1, total=   0.4s\n",
      "[CV] n_estimators=100, min_samples_split=2, min_samples_leaf=4, max_features=sqrt, max_depth=20, learning_rate=1 \n",
      "[CV]  n_estimators=100, min_samples_split=2, min_samples_leaf=4, max_features=sqrt, max_depth=20, learning_rate=1, total=   0.4s\n",
      "[CV] n_estimators=100, min_samples_split=2, min_samples_leaf=4, max_features=sqrt, max_depth=20, learning_rate=1 \n",
      "[CV]  n_estimators=100, min_samples_split=2, min_samples_leaf=4, max_features=sqrt, max_depth=20, learning_rate=1, total=   0.4s\n",
      "[CV] n_estimators=200, min_samples_split=6, min_samples_leaf=4, max_features=sqrt, max_depth=None, learning_rate=10 \n",
      "[CV]  n_estimators=200, min_samples_split=6, min_samples_leaf=4, max_features=sqrt, max_depth=None, learning_rate=10, total=   3.1s\n",
      "[CV] n_estimators=200, min_samples_split=6, min_samples_leaf=4, max_features=sqrt, max_depth=None, learning_rate=10 \n",
      "[CV]  n_estimators=200, min_samples_split=6, min_samples_leaf=4, max_features=sqrt, max_depth=None, learning_rate=10, total=   3.1s\n",
      "[CV] n_estimators=200, min_samples_split=6, min_samples_leaf=4, max_features=sqrt, max_depth=None, learning_rate=10 \n",
      "[CV]  n_estimators=200, min_samples_split=6, min_samples_leaf=4, max_features=sqrt, max_depth=None, learning_rate=10, total=   3.1s\n",
      "[CV] n_estimators=200, min_samples_split=6, min_samples_leaf=4, max_features=sqrt, max_depth=None, learning_rate=10 \n",
      "[CV]  n_estimators=200, min_samples_split=6, min_samples_leaf=4, max_features=sqrt, max_depth=None, learning_rate=10, total=   2.9s\n",
      "[CV] n_estimators=200, min_samples_split=6, min_samples_leaf=4, max_features=sqrt, max_depth=None, learning_rate=10 \n",
      "[CV]  n_estimators=200, min_samples_split=6, min_samples_leaf=4, max_features=sqrt, max_depth=None, learning_rate=10, total=   2.9s\n",
      "[CV] n_estimators=500, min_samples_split=4, min_samples_leaf=2, max_features=auto, max_depth=30, learning_rate=0.1 \n",
      "[CV]  n_estimators=500, min_samples_split=4, min_samples_leaf=2, max_features=auto, max_depth=30, learning_rate=0.1, total=   3.8s\n",
      "[CV] n_estimators=500, min_samples_split=4, min_samples_leaf=2, max_features=auto, max_depth=30, learning_rate=0.1 \n",
      "[CV]  n_estimators=500, min_samples_split=4, min_samples_leaf=2, max_features=auto, max_depth=30, learning_rate=0.1, total=   3.5s\n",
      "[CV] n_estimators=500, min_samples_split=4, min_samples_leaf=2, max_features=auto, max_depth=30, learning_rate=0.1 \n",
      "[CV]  n_estimators=500, min_samples_split=4, min_samples_leaf=2, max_features=auto, max_depth=30, learning_rate=0.1, total=   3.4s\n",
      "[CV] n_estimators=500, min_samples_split=4, min_samples_leaf=2, max_features=auto, max_depth=30, learning_rate=0.1 \n",
      "[CV]  n_estimators=500, min_samples_split=4, min_samples_leaf=2, max_features=auto, max_depth=30, learning_rate=0.1, total=   3.4s\n",
      "[CV] n_estimators=500, min_samples_split=4, min_samples_leaf=2, max_features=auto, max_depth=30, learning_rate=0.1 \n",
      "[CV]  n_estimators=500, min_samples_split=4, min_samples_leaf=2, max_features=auto, max_depth=30, learning_rate=0.1, total=   3.4s\n",
      "[CV] n_estimators=500, min_samples_split=2, min_samples_leaf=2, max_features=auto, max_depth=None, learning_rate=0.1 \n",
      "[CV]  n_estimators=500, min_samples_split=2, min_samples_leaf=2, max_features=auto, max_depth=None, learning_rate=0.1, total=   3.6s\n",
      "[CV] n_estimators=500, min_samples_split=2, min_samples_leaf=2, max_features=auto, max_depth=None, learning_rate=0.1 \n",
      "[CV]  n_estimators=500, min_samples_split=2, min_samples_leaf=2, max_features=auto, max_depth=None, learning_rate=0.1, total=   3.4s\n",
      "[CV] n_estimators=500, min_samples_split=2, min_samples_leaf=2, max_features=auto, max_depth=None, learning_rate=0.1 \n",
      "[CV]  n_estimators=500, min_samples_split=2, min_samples_leaf=2, max_features=auto, max_depth=None, learning_rate=0.1, total=   3.5s\n",
      "[CV] n_estimators=500, min_samples_split=2, min_samples_leaf=2, max_features=auto, max_depth=None, learning_rate=0.1 \n",
      "[CV]  n_estimators=500, min_samples_split=2, min_samples_leaf=2, max_features=auto, max_depth=None, learning_rate=0.1, total=   3.7s\n",
      "[CV] n_estimators=500, min_samples_split=2, min_samples_leaf=2, max_features=auto, max_depth=None, learning_rate=0.1 \n",
      "[CV]  n_estimators=500, min_samples_split=2, min_samples_leaf=2, max_features=auto, max_depth=None, learning_rate=0.1, total=   3.7s\n",
      "[CV] n_estimators=500, min_samples_split=4, min_samples_leaf=4, max_features=sqrt, max_depth=5, learning_rate=1 \n",
      "[CV]  n_estimators=500, min_samples_split=4, min_samples_leaf=4, max_features=sqrt, max_depth=5, learning_rate=1, total=   1.0s\n",
      "[CV] n_estimators=500, min_samples_split=4, min_samples_leaf=4, max_features=sqrt, max_depth=5, learning_rate=1 \n",
      "[CV]  n_estimators=500, min_samples_split=4, min_samples_leaf=4, max_features=sqrt, max_depth=5, learning_rate=1, total=   1.1s\n",
      "[CV] n_estimators=500, min_samples_split=4, min_samples_leaf=4, max_features=sqrt, max_depth=5, learning_rate=1 \n",
      "[CV]  n_estimators=500, min_samples_split=4, min_samples_leaf=4, max_features=sqrt, max_depth=5, learning_rate=1, total=   0.8s\n",
      "[CV] n_estimators=500, min_samples_split=4, min_samples_leaf=4, max_features=sqrt, max_depth=5, learning_rate=1 \n",
      "[CV]  n_estimators=500, min_samples_split=4, min_samples_leaf=4, max_features=sqrt, max_depth=5, learning_rate=1, total=   0.8s\n",
      "[CV] n_estimators=500, min_samples_split=4, min_samples_leaf=4, max_features=sqrt, max_depth=5, learning_rate=1 \n",
      "[CV]  n_estimators=500, min_samples_split=4, min_samples_leaf=4, max_features=sqrt, max_depth=5, learning_rate=1, total=   0.8s\n"
     ]
    },
    {
     "name": "stderr",
     "output_type": "stream",
     "text": [
      "[Parallel(n_jobs=1)]: Done 100 out of 100 | elapsed:  3.8min finished\n",
      "C:\\Users\\Festus\\Anaconda3\\lib\\site-packages\\sklearn\\model_selection\\_search.py:814: DeprecationWarning: The default of the `iid` parameter will change from True to False in version 0.22 and will be removed in 0.24. This will change numeric results when test-set sizes are unequal.\n",
      "  DeprecationWarning)\n"
     ]
    }
   ],
   "source": [
    "np.random.seed(42)\n",
    "\n",
    "# Set n_jobs to -1 to use all cores (NOTE: n_jobs=-1 is broken as of 8 Dec 2019, using n_jobs=1 works)\n",
    "clf = GradientBoostingClassifier()\n",
    "\n",
    "# Setup RandomizedSearchCV\n",
    "xg_clf = RandomizedSearchCV(estimator=clf,\n",
    "                            param_distributions=grid,\n",
    "                            n_iter=20, # try 20 models total\n",
    "                            cv=5, # 5-fold cross-validation\n",
    "                            verbose=2) # print out results\n",
    "\n",
    "# Fit the RandomizedSearchCV version of clf\n",
    "xg_clf.fit(X_train, y_train);"
   ]
  },
  {
   "cell_type": "code",
   "execution_count": 75,
   "metadata": {},
   "outputs": [
    {
     "data": {
      "text/plain": [
       "{'n_estimators': 1000,\n",
       " 'min_samples_split': 2,\n",
       " 'min_samples_leaf': 2,\n",
       " 'max_features': 'auto',\n",
       " 'max_depth': 5,\n",
       " 'learning_rate': 0.1}"
      ]
     },
     "execution_count": 75,
     "metadata": {},
     "output_type": "execute_result"
    }
   ],
   "source": [
    "xg_clf.best_params_"
   ]
  },
  {
   "cell_type": "code",
   "execution_count": 76,
   "metadata": {},
   "outputs": [
    {
     "name": "stdout",
     "output_type": "stream",
     "text": [
      "Accuracy Score: 0.7857142857142857 / Precision Score 0.64 / recall_score 0.6808510638297872\n",
      "Confusion  matrix:\n",
      " [[89 18]\n",
      " [15 32]]\n"
     ]
    }
   ],
   "source": [
    "gb = GradientBoostingClassifier(n_estimators = 1000,\n",
    " min_samples_split= 2,\n",
    " min_samples_leaf= 2,\n",
    " max_features='auto',\n",
    " max_depth= 5,\n",
    " learning_rate = 0.1)\n",
    "gb.fit(X_train, y_train)\n",
    "y_pred = gb.predict(X_test)\n",
    "print('Accuracy Score: {} / Precision Score {} / recall_score {}'. format(accuracy_score(y_test, y_pred),\n",
    "                                                                      precision_score(y_test, y_pred),\n",
    "                                                                      recall_score(y_test, y_pred)))\n",
    "cnf_matrix = confusion_matrix(y_test, y_pred)\n",
    "print('Confusion  matrix:\\n {}'.format(cnf_matrix))"
   ]
  },
  {
   "cell_type": "code",
   "execution_count": 82,
   "metadata": {},
   "outputs": [],
   "source": [
    "# save the model to disk\n",
    "import pickle\n",
    "with open('model_diabetes','wb')as f:\n",
    "    pickle.dump(xg, f)"
   ]
  },
  {
   "cell_type": "code",
   "execution_count": 86,
   "metadata": {},
   "outputs": [],
   "source": [
    "with open('model_diabetes','rb')as f:\n",
    "    mp=pickle.load(f)"
   ]
  },
  {
   "cell_type": "code",
   "execution_count": 88,
   "metadata": {},
   "outputs": [
    {
     "data": {
      "text/plain": [
       "array([1, 0, 0, 1, 0, 0, 1, 1, 0, 0, 1, 1, 0, 0, 0, 0, 1, 0, 0, 0, 1, 0,\n",
       "       0, 0, 0, 0, 0, 1, 0, 0, 0, 0, 0, 0, 0, 1, 0, 0, 0, 1, 0, 0, 0, 1,\n",
       "       1, 0, 0, 0, 0, 1, 0, 0, 1, 1, 0, 0, 0, 0, 0, 0, 1, 1, 0, 1, 1, 1,\n",
       "       1, 0, 0, 0, 0, 0, 0, 1, 1, 0, 0, 1, 0, 0, 0, 1, 0, 0, 0, 0, 0, 0,\n",
       "       1, 0, 0, 0, 0, 0, 1, 0, 0, 0, 1, 0, 0, 0, 0, 0, 1, 1, 0, 0, 0, 1,\n",
       "       0, 1, 1, 1, 1, 1, 0, 1, 0, 1, 0, 0, 0, 1, 0, 0, 1, 0, 0, 1, 0, 0,\n",
       "       0, 1, 0, 1, 0, 0, 1, 0, 0, 0, 0, 0, 1, 0, 0, 0, 0, 0, 0, 0, 0, 0],\n",
       "      dtype=int64)"
      ]
     },
     "execution_count": 88,
     "metadata": {},
     "output_type": "execute_result"
    }
   ],
   "source": [
    "mp.predict(X_test)"
   ]
  },
  {
   "cell_type": "code",
   "execution_count": null,
   "metadata": {},
   "outputs": [],
   "source": []
  }
 ],
 "metadata": {
  "kernelspec": {
   "display_name": "Python 3",
   "language": "python",
   "name": "python3"
  },
  "language_info": {
   "codemirror_mode": {
    "name": "ipython",
    "version": 3
   },
   "file_extension": ".py",
   "mimetype": "text/x-python",
   "name": "python",
   "nbconvert_exporter": "python",
   "pygments_lexer": "ipython3",
   "version": "3.7.4"
  }
 },
 "nbformat": 4,
 "nbformat_minor": 2
}
